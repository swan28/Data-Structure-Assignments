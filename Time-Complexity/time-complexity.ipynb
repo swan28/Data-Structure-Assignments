{
 "cells": [
  {
   "cell_type": "code",
   "execution_count": 1,
   "id": "a66394fb",
   "metadata": {},
   "outputs": [],
   "source": [
    "# Question 1\n",
    "def quicksort(arr):\n",
    "    if len(arr) <= 1:\n",
    "        return arr\n",
    "    pivot = arr[len(arr) // 2]\n",
    "    left = [x for x in arr if x < pivot]\n",
    "    middle = [x for x in arr if x == pivot]\n",
    "    right = [x for x in arr if x > pivot]\n",
    "    return quicksort(left) + middle + quicksort(right)"
   ]
  },
  {
   "cell_type": "markdown",
   "id": "13994108",
   "metadata": {},
   "source": [
    "**Time Complexity Calculation**\n",
    "\n",
    "The time complexity \\( T(n) \\) of QuickSort can be expressed as:\n",
    "\\[ T(n) = O(n) + T(k) + T(n - k - 1) \\]\n",
    "\n",
    "where:\n",
    "- \\( O(n) \\) is the time for partitioning the array.\n",
    "- \\( T(k) \\) is the time complexity for sorting the left part.\n",
    "- \\( T(n - k - 1) \\) is the time complexity for sorting the right part.\n",
    "- \\( k \\) is the number of elements in the left subarray.\n",
    "\n",
    "**Best Case:**\n",
    "In the best case, the pivot divides the array into two equal halves:\n",
    "\\[ T(n) = 2T(n/2) + O(n) \\]\n",
    "\n",
    "Using the Master Theorem for divide-and-conquer recurrences:\n",
    "\\[ T(n) = 2T(n/2) + O(n) \\]\n",
    "\n",
    "falls into case 2 of the Master Theorem where \\( a = 2 \\), \\( b = 2 \\), and \\( f(n) = O(n) \\), which gives:\n",
    "\\[ T(n) = O(n \\log n) \\]\n",
    "\n",
    "**Average Case:**\n",
    "In the average case, the pivot divides the array such that the sizes of the subarrays are roughly equal, leading to the same recurrence relation as the best case:\n",
    "\\[ T(n) = O(n \\log n) \\]\n",
    "\n",
    "**Worst Case:**\n",
    "In the worst case, the pivot is the smallest or largest element, resulting in one of the subarrays being empty (or having only one element):\n",
    "\\[ T(n) = T(0) + T(n-1) + O(n) \\]\n",
    "\\[ T(n) = T(n-1) + O(n) \\]\n",
    "\n",
    "This recurrence solves to:\n",
    "\\[ T(n) = O(n^2) \\]\n",
    "\n",
    "**Conclusion:**\n",
    "\n",
    "1. Best Case Time Complexity: \\( O(n \\log n) \\)\n",
    "2. Average Case Time Complexity: \\( O(n \\log n) \\)\n",
    "3. Worst Case Time Complexity: \\( O(n^2) \\)\n",
    "\n",
    "Thus, the time complexity of the given QuickSort function is \\( O(n \\log n) \\) on average and in the best case, and \\( O(n^2) \\) in the worst case.\n"
   ]
  },
  {
   "cell_type": "code",
   "execution_count": 2,
   "id": "ea32fe38",
   "metadata": {},
   "outputs": [],
   "source": [
    "# Question 2\n",
    "def nested_loop_example(matrix):\n",
    "    rows, cols = len(matrix), len(matrix[0])\n",
    "    total = 0\n",
    "    for i in range(rows):\n",
    "        for j in range(cols):\n",
    "            total += matrix[i][j]\n",
    "    return total"
   ]
  },
  {
   "cell_type": "markdown",
   "id": "a4381795",
   "metadata": {},
   "source": [
    "**Time Complexity Calculation**\n",
    "\n",
    "The time complexity \\( T(n) \\) of the `nested_loop_example` function can be expressed as:\n",
    "\n",
    "**Worst Case:**\n",
    "The function iterates over each element in the matrix using a nested loop. Let the matrix have dimensions `rows` x `cols`.\n",
    "\n",
    "- The outer loop runs `rows` times.\n",
    "- The inner loop runs `cols` times for each iteration of the outer loop.\n",
    "\n",
    "Thus, the total number of iterations is:\n",
    "\\[ T(n) = \\text{rows} \\times \\text{cols} \\]\n",
    "\n",
    "**Conclusion:**\n",
    "If we assume the matrix is of size \\( n \\times m \\):\n",
    "\n",
    "Time Complexity: \\( O(n \\times m) \\)\n"
   ]
  },
  {
   "cell_type": "code",
   "execution_count": 3,
   "id": "b8b5591a",
   "metadata": {},
   "outputs": [],
   "source": [
    "# Question 3\n",
    "def example_function(arr):\n",
    "    result = 0\n",
    "    for element in arr:\n",
    "        result += element\n",
    "    return result"
   ]
  },
  {
   "cell_type": "markdown",
   "id": "e3c5f658",
   "metadata": {},
   "source": [
    "**Time Complexity Calculation**\n",
    "\n",
    "The time complexity \\( T(n) \\) of the `example_function` can be expressed as:\n",
    "\n",
    "**Worst Case:**\n",
    "The function iterates over each element in the input array `arr` once. Let \\( n \\) be the length of the array.\n",
    "\n",
    "The loop iterates \\( n \\) times, where \\( n \\) is the length of the array.\n",
    "\n",
    "Thus, the total number of iterations is:\n",
    "\\[ T(n) = n \\]\n",
    "\n",
    "**Conclusion:**\n",
    "Time Complexity: \\( O(n) \\)\n"
   ]
  },
  {
   "cell_type": "code",
   "execution_count": 4,
   "id": "599043b5",
   "metadata": {},
   "outputs": [],
   "source": [
    "# Question 4\n",
    "def longest_increasing_subsequence(nums):\n",
    "    n = len(nums)\n",
    "    lis = [1] * n\n",
    "    for i in range(1, n):\n",
    "        for j in range(0, i):\n",
    "            if nums[i] > nums[j] and lis[i] < lis[j] + 1:\n",
    "                lis[i] = lis[j] + 1\n",
    "    return max(lis)"
   ]
  },
  {
   "cell_type": "markdown",
   "id": "0bd82d4e",
   "metadata": {},
   "source": [
    "**Time Complexity Calculation**\n",
    "\n",
    "The time complexity \\( T(n) \\) of the `longest_increasing_subsequence` function can be expressed as:\n",
    "\n",
    "**Worst Case:**\n",
    "The function uses a nested loop to iterate over the elements of the input list `nums`. Let \\( n \\) be the length of the list.\n",
    "\n",
    "- The outer loop runs \\( n \\) times.\n",
    "- The inner loop runs \\( i \\) times for each iteration of the outer loop, where \\( i \\) ranges from 1 to \\( n-1 \\).\n",
    "\n",
    "Thus, the total number of iterations is the sum of the first \\( n-1 \\) integers:\n",
    "\\[ T(n) = 1 + 2 + 3 + \\ldots + (n-1) \\]\n",
    "\n",
    "This summation can be simplified to:\n",
    "\\[ T(n) = \\frac{n(n-1)}{2} \\]\n",
    "\n",
    "Therefore, the time complexity is:\n",
    "\\[ T(n) = O(n^2) \\]\n",
    "\n",
    "**Conclusion:**\n",
    "Time Complexity: \\( O(n^2) \\)\n"
   ]
  },
  {
   "cell_type": "code",
   "execution_count": 5,
   "id": "7e9d081c",
   "metadata": {},
   "outputs": [],
   "source": [
    "# Question 5\n",
    "def mysterious_function(arr):\n",
    "    n = len(arr)\n",
    "    result = 0\n",
    "    for i in range(n):\n",
    "        for j in range(i, n):\n",
    "            result += arr[i] * arr[j]\n",
    "    return result"
   ]
  },
  {
   "cell_type": "markdown",
   "id": "577582ed",
   "metadata": {},
   "source": [
    "**Time Complexity Calculation**\n",
    "\n",
    "The time complexity \\( T(n) \\) of the `mysterious_function` can be expressed as:\n",
    "\n",
    "**Worst Case:**\n",
    "The function uses a nested loop to iterate over the elements of the input array `arr`. Let \\( n \\) be the length of the array.\n",
    "\n",
    "- The outer loop runs \\( n \\) times.\n",
    "- The inner loop runs \\( (n - i) \\) times for each iteration of the outer loop, where \\( i \\) ranges from 0 to \\( n-1 \\).\n",
    "\n",
    "Thus, the total number of iterations is the sum of the first \\( n \\) integers:\n",
    "\\[ T(n) = n + (n-1) + (n-2) + \\ldots + 1 \\]\n",
    "\n",
    "This summation can be simplified to:\n",
    "\\[ T(n) = \\frac{n(n+1)}{2} \\]\n",
    "\n",
    "Therefore, the time complexity is:\n",
    "\\[ T(n) = O(n^2) \\]\n",
    "\n",
    "**Conclusion:**\n",
    "Time Complexity: \\( O(n^2) \\)\n"
   ]
  },
  {
   "cell_type": "code",
   "execution_count": 6,
   "id": "316344d0",
   "metadata": {},
   "outputs": [
    {
     "name": "stdout",
     "output_type": "stream",
     "text": [
      "6\n"
     ]
    }
   ],
   "source": [
    "# Question 6: Sum of Digits\n",
    "# Write a recursive function to calculate the sum of digits of a given positive integer. sum_of_digits(123) -> 6\n",
    "def sum_of_digits(n):\n",
    "    if n == 0:\n",
    "        return 0\n",
    "    else:\n",
    "        return n % 10 + sum_of_digits(n // 10)\n",
    "\n",
    "print(sum_of_digits(123))"
   ]
  },
  {
   "cell_type": "markdown",
   "id": "65211d1c",
   "metadata": {},
   "source": [
    "This Python code defines a recursive function to calculate the sum of the digits of a given positive integer. It breaks down the problem into smaller subproblems by isolating the last digit of the number and summing it with the result of the same function applied to the remaining digits.\n",
    "\n",
    "Here's a step-by-step explanation of the code:\n",
    "\n",
    "1. **Base Case Identification:**\n",
    "   - The function first checks if the number is zero. If it is, the sum of its digits is zero. This serves as the base case for the recursion.\n",
    "\n",
    "2. **Recursive Step Preparation:**\n",
    "   - If the number is not zero, the function proceeds to the recursive step. It calculates the last digit of the number by taking the remainder of the number divided by 10 (`n % 10`).\n",
    "\n",
    "3. **Recursive Call:**\n",
    "   - The function then calls itself with the number divided by 10 (which effectively removes the last digit), thereby reducing the problem size. This is achieved by performing integer division (`n // 10`).\n",
    "\n",
    "4. **Summing Up Results:**\n",
    "   - The result of the recursive call (which gives the sum of the digits of the truncated number) is added to the last digit obtained in step 2. This sum is then returned as the result of the function.\n",
    "\n",
    "5. **Recursive Unwinding:**\n",
    "   - As the recursion unwinds, each call returns the sum of the last digit it processed and the sum of the digits of the truncated number, eventually producing the total sum of the digits of the original number.\n",
    "\n",
    "6. **Final Output:**\n",
    "   - Once the recursion has fully unwound, the initial function call returns the total sum of the digits of the input number, which is then printed.\n"
   ]
  },
  {
   "cell_type": "code",
   "execution_count": 7,
   "id": "3e13127c",
   "metadata": {},
   "outputs": [
    {
     "name": "stdout",
     "output_type": "stream",
     "text": [
      "[0, 1, 1, 2, 3, 5]\n"
     ]
    }
   ],
   "source": [
    "# Question 7: Fibonacci Series\n",
    "# Write a recursive function to generate the first n numbers of the Fibonacci series. fibonacci_series(6) -> [0, 1, 1, 2, 3, 5]\n",
    "def fibonacci(n):\n",
    "    if n == 0:\n",
    "        return 0\n",
    "    elif n == 1:\n",
    "        return 1\n",
    "    else:\n",
    "        return fibonacci(n - 1) + fibonacci(n - 2)\n",
    "\n",
    "def fibonacci_series(n):\n",
    "    return [fibonacci(i) for i in range(n)]\n",
    "\n",
    "print(fibonacci_series(6))"
   ]
  },
  {
   "cell_type": "markdown",
   "id": "2908fecd",
   "metadata": {},
   "source": [
    "This Python code defines a pair of recursive functions to generate the first `n` numbers of the Fibonacci series. The `fibonacci` function computes individual Fibonacci numbers, while the `fibonacci_series` function uses this to generate a list of the first `n` Fibonacci numbers.\n",
    "\n",
    "Here's a step-by-step explanation of the code:\n",
    "\n",
    "1. **Defining the Fibonacci Function:**\n",
    "   - The `fibonacci` function is designed to return the Fibonacci number at position `n`. It handles the base cases where `n` is 0 or 1 directly by returning 0 and 1, respectively.\n",
    "\n",
    "2. **Handling the Recursive Case:**\n",
    "   - For values of `n` greater than 1, the function computes the Fibonacci number by summing the results of two recursive calls: one for `n-1` and one for `n-2`.\n",
    "\n",
    "3. **Generating the Fibonacci Series:**\n",
    "   - The `fibonacci_series` function creates a list of the first `n` Fibonacci numbers. It does this by iterating over a range from 0 to `n-1` and applying the `fibonacci` function to each index.\n",
    "\n",
    "4. **Creating the List:**\n",
    "   - A list comprehension is used within `fibonacci_series` to efficiently generate the list of Fibonacci numbers by calling the `fibonacci` function for each index in the range.\n",
    "\n",
    "5. **Executing the Function:**\n",
    "   - When `fibonacci_series(6)` is called, the `fibonacci` function is invoked six times (for indices 0 through 5), and the resulting Fibonacci numbers are collected into a list.\n",
    "\n",
    "6. **Printing the Result:**\n",
    "   - The final list of the first 6 Fibonacci numbers is printed, showing the sequence `[0, 1, 1, 2, 3, 5]`.\n"
   ]
  },
  {
   "cell_type": "code",
   "execution_count": 8,
   "id": "3b120ed2",
   "metadata": {},
   "outputs": [
    {
     "name": "stdout",
     "output_type": "stream",
     "text": [
      "True\n"
     ]
    }
   ],
   "source": [
    "# Question 8: Subset Sum\n",
    "# Given a set of positive integers and a target sum, write a recursive function to determine if there exists a subset of the\n",
    "# integers that adds up to the target sum. subset_sum([3, 34, 4, 12, 5, 2], 9) -> True\n",
    "def subset_sum(numbers, target):\n",
    "    if target == 0:\n",
    "        return True\n",
    "    if not numbers:\n",
    "        return False\n",
    "\n",
    "    last = numbers[-1]\n",
    "\n",
    "    if last > target:\n",
    "        return subset_sum(numbers[:-1], target)\n",
    "    else:\n",
    "        return subset_sum(numbers[:-1], target) or subset_sum(numbers[:-1], target - last)\n",
    "\n",
    "print(subset_sum([3, 34, 4, 12, 5, 2], 9))"
   ]
  },
  {
   "cell_type": "markdown",
   "id": "7a4beda7",
   "metadata": {},
   "source": [
    "This Python code defines a recursive function to determine if there exists a subset of given positive integers that adds up to a specified target sum. The function works by exploring all possible subsets of the list and checking if any of them sum to the target.\n",
    "\n",
    "Here's a step-by-step explanation of the code:\n",
    "\n",
    "1. **Base Case for Target Sum Zero:**\n",
    "   - The function first checks if the target sum is zero. If it is, the function returns `True` because an empty subset always sums to zero.\n",
    "\n",
    "2. **Base Case for Empty List:**\n",
    "   - If the list of numbers is empty and the target sum is not zero, the function returns `False` since no subset can be formed to match a non-zero target.\n",
    "\n",
    "3. **Identify the Last Element:**\n",
    "   - The function identifies the last element of the list, as it will be used in the subsequent recursive calls.\n",
    "\n",
    "4. **Check if Last Element Exceeds Target:**\n",
    "   - If the last element is greater than the target sum, it cannot be part of any subset that sums to the target. Therefore, the function calls itself recursively with the same target but without the last element.\n",
    "\n",
    "5. **Recursive Calls for Subsets:**\n",
    "   - If the last element is less than or equal to the target, the function performs two recursive calls:\n",
    "     1. One excluding the last element (to check subsets without it).\n",
    "     2. One including the last element (to check subsets that sum to the target minus the last element).\n",
    "\n",
    "6. **Combining Results:**\n",
    "   - The function returns `True` if either of the recursive calls returns `True`, indicating that a valid subset has been found. If neither call returns `True`, it returns `False`.\n",
    "\n",
    "7. **Iterative Reduction:**\n",
    "   - This process iteratively reduces the problem size by either excluding or including the last element, breaking down the problem into smaller subproblems until base cases are reached.\n",
    "\n",
    "8. **Final Output:**\n",
    "   - When the function is initially called, it recursively explores all possible subsets, and the final output is `True` if any subset sums to the target, otherwise `False`.\n"
   ]
  },
  {
   "cell_type": "code",
   "execution_count": 9,
   "id": "a298b6a5",
   "metadata": {},
   "outputs": [
    {
     "name": "stdout",
     "output_type": "stream",
     "text": [
      "True\n"
     ]
    }
   ],
   "source": [
    "# Question 9: Word Break\n",
    "# Given a non-empty string and a dictionary of words, write a recursive function to determine if the string can be segmented\n",
    "# into a space-separated sequence of dictionary words. word_break( leetcode , [ leet , code ]) -> True\n",
    "def word_break(s, word_dict):\n",
    "    def can_break(s, word_dict, start):\n",
    "        if start == len(s):\n",
    "            return True\n",
    "\n",
    "        for end in range(start + 1, len(s) + 1):\n",
    "            if s[start:end] in word_dict and can_break(s, word_dict, end):\n",
    "                return True\n",
    "\n",
    "        return False\n",
    "\n",
    "    return can_break(s, set(word_dict), 0)\n",
    "\n",
    "print(word_break(\"leetcode\", [\"leet\", \"code\"]))"
   ]
  },
  {
   "cell_type": "markdown",
   "id": "e0468e0a",
   "metadata": {},
   "source": [
    "This Python code defines a recursive function to determine if a given string can be segmented into a sequence of dictionary words, without reordering. It checks if the entire string can be broken down into valid words as specified by a list of allowed words (dictionary).\n",
    "\n",
    "Here's a step-by-step explanation of the code:\n",
    "\n",
    "1. **Initialization of the Recursive Function:**\n",
    "   - A helper recursive function named `can_break` is defined within the main function. This function takes the string, a set of dictionary words, and a starting index as its parameters.\n",
    "\n",
    "2. **Base Case for Recursion:**\n",
    "   - The recursive function checks if the current start index has reached the end of the string. If so, it returns `True`, indicating that the string from the beginning up to this point can be completely segmented using the dictionary.\n",
    "\n",
    "3. **Iteration Over Possible Endings:**\n",
    "   - The function iterates over possible end positions for a word starting from the start index. This loop checks every possible substring starting from the index `start` to the end of the string.\n",
    "\n",
    "4. **Substring Check:**\n",
    "   - Within the loop, the function checks if the substring from the start index to the current end index exists in the dictionary set.\n",
    "\n",
    "5. **Recursive Call:**\n",
    "   - If a valid dictionary word is found, the function makes a recursive call with the new start position set to the current end index. This checks if the remaining part of the string (from end to the end of the string) can also be segmented into dictionary words.\n",
    "\n",
    "6. **Result of the Recursive Call:**\n",
    "   - If the recursive call returns `True`, it means that from the current start position, the string can be broken down successfully. Hence, the function returns `True`.\n",
    "\n",
    "7. **Completion of Loop:**\n",
    "   - If no valid segment is found that leads to a successful segmentation for the current starting position, the loop completes, and the function returns `False`, indicating the string cannot be segmented starting from this start index.\n",
    "\n",
    "8. **Conversion to Set for Efficiency:**\n",
    "   - Before the recursive function is invoked, the list of dictionary words is converted to a set for faster lookup times. This is crucial because checking membership in a set is typically faster than in a list.\n",
    "\n",
    "9. **Final Output:**\n",
    "   - The main function returns whatever result is produced by the helper recursive function, which is then printed to show whether the string can be segmented or not.\n"
   ]
  },
  {
   "cell_type": "code",
   "execution_count": 10,
   "id": "0f6adfcb",
   "metadata": {},
   "outputs": [
    {
     "name": "stdout",
     "output_type": "stream",
     "text": [
      "[['..Q.', 'Q...', '...Q', '.Q..'], ['.Q..', '...Q', 'Q...', '..Q.']]\n"
     ]
    }
   ],
   "source": [
    "# Question 10: N-Queens\n",
    "# Implement a recursive function to solve the N Queens problem, where you have to place N queens on an N×N chessboard\n",
    "# in such a way that no two queens threaten each other.\n",
    "# n_queens(4)\n",
    "# [\n",
    "# [\".Q..\",\n",
    "# \"...Q\",\n",
    "# \"Q...\",\n",
    "# \"..Q.\"],\n",
    "# [\"..Q.\",\n",
    "# \"Q...\",\n",
    "# \"...Q\",\n",
    "# \".Q..\"]\n",
    "# ]\n",
    "def n_queens(n):\n",
    "    def is_safe(board, row, col):\n",
    "        for i in range(col):\n",
    "            if board[row][i] == 'Q':\n",
    "                return False\n",
    "        \n",
    "        for i, j in zip(range(row, -1, -1), range(col, -1, -1)):\n",
    "            if board[i][j] == 'Q':\n",
    "                return False\n",
    "        \n",
    "        for i, j in zip(range(row, n), range(col, -1, -1)):\n",
    "            if board[i][j] == 'Q':\n",
    "                return False\n",
    "        \n",
    "        return True\n",
    "    \n",
    "    def solve(board, col):\n",
    "        if col >= n:\n",
    "            results.append([''.join(row) for row in board])\n",
    "            return\n",
    "        \n",
    "        for i in range(n):\n",
    "            if is_safe(board, i, col):\n",
    "                board[i][col] = 'Q'\n",
    "                solve(board, col + 1)\n",
    "                board[i][col] = '.'\n",
    "    \n",
    "    board = [['.' for _ in range(n)] for _ in range(n)]\n",
    "    results = []\n",
    "    solve(board, 0)\n",
    "    return results\n",
    "\n",
    "print(n_queens(4))"
   ]
  },
  {
   "cell_type": "markdown",
   "id": "eafb1368",
   "metadata": {},
   "source": [
    "This Python code implements a solution for the N-Queens problem using recursion. It attempts to place N queens on an N×N chessboard such that no two queens threaten each other. The solution involves recursively placing queens on the board while ensuring that each placement is safe, meaning no two queens can attack each other either horizontally, vertically, or diagonally.\n",
    "\n",
    "Here's a step-by-step explanation of the code:\n",
    "\n",
    "1. **Initialization of the Chessboard:**\n",
    "   - The chessboard is represented as a list of lists filled with `.` indicating empty spaces. Each list represents a row on the chessboard.\n",
    "\n",
    "2. **Recursive Function `solve`:**\n",
    "   - This function attempts to place queens column by column. It accepts the current state of the board and the column index where the next queen should be placed.\n",
    "\n",
    "3. **Base Case of Recursion:**\n",
    "   - The base case checks if the column index is equal to N, indicating that a queen has been successfully placed in each column. If this condition is met, a valid arrangement of the board is converted into a list of strings and added to the results list.\n",
    "\n",
    "4. **Iteration Over Rows:**\n",
    "   - For each column, the function iterates over all rows to find a safe row to place a queen.\n",
    "\n",
    "5. **Safety Check Using `is_safe`:**\n",
    "   - Before placing a queen, the `is_safe` function is called to check if placing a queen at the current row and column is safe. This function checks three conditions:\n",
    "     1. No other queen is placed in the same row on the left side.\n",
    "     2. No other queen is placed on the upper diagonal.\n",
    "     3. No other queen is placed on the lower diagonal.\n",
    "\n",
    "6. **Placing a Queen:**\n",
    "   - If a row is found safe, the queen (`Q`) is placed on the board at that row and column. The recursive function `solve` is then called with the next column index.\n",
    "\n",
    "7. **Backtracking:**\n",
    "   - After the recursive call returns, the placed queen is removed (replaced with `.`) to explore other possibilities. This step is crucial for backtracking and finding all possible solutions.\n",
    "\n",
    "8. **Collecting and Returning Results:**\n",
    "   - All valid board configurations are collected in a list named `results`. Each board configuration is stored as a list of strings, where each string represents a row of the chessboard.\n",
    "\n",
    "9. **Output of Results:**\n",
    "   - After all possible configurations have been explored, the list of results is returned and can be printed to show all possible ways to solve the N-Queens problem for a board of size N.\n"
   ]
  },
  {
   "cell_type": "markdown",
   "id": "e14c589f",
   "metadata": {},
   "source": []
  }
 ],
 "metadata": {
  "kernelspec": {
   "display_name": "Python 3 (ipykernel)",
   "language": "python",
   "name": "python3"
  },
  "language_info": {
   "codemirror_mode": {
    "name": "ipython",
    "version": 3
   },
   "file_extension": ".py",
   "mimetype": "text/x-python",
   "name": "python",
   "nbconvert_exporter": "python",
   "pygments_lexer": "ipython3",
   "version": "3.11.4"
  }
 },
 "nbformat": 4,
 "nbformat_minor": 5
}
