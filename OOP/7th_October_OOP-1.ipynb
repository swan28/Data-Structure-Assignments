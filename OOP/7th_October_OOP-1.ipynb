{
 "cells": [
  {
   "cell_type": "markdown",
   "metadata": {},
   "source": [
    "## **OOPs**"
   ]
  },
  {
   "cell_type": "markdown",
   "metadata": {},
   "source": [
    "### Problem 1: Bank Account - Create a class representing a bank account with attributes like account number, account holder name, and balance. Implement methods to deposit and withdraw money from the account.\n",
    "\n"
   ]
  },
  {
   "cell_type": "code",
   "execution_count": 8,
   "metadata": {},
   "outputs": [
    {
     "name": "stdout",
     "output_type": "stream",
     "text": [
      "Balance after account creation :  0\n",
      "Balance after depositing money :  1000\n",
      "Balance after withdrawing money :  500\n"
     ]
    }
   ],
   "source": [
    "class BankAccount:\n",
    "    def __init__(self, account_number, account_holder, balance=0):\n",
    "        self.account_number = account_number\n",
    "        self.account_holder = account_holder\n",
    "        self.balance = balance\n",
    "\n",
    "    def deposit(self, amount):\n",
    "        self.balance += amount\n",
    "\n",
    "    def withdraw(self, amount):\n",
    "        if self.balance >= amount:\n",
    "            self.balance -= amount\n",
    "        else:\n",
    "            print(\"Insufficient balance\")\n",
    "\n",
    "# initialising account using constructor\n",
    "account = BankAccount(\"12345\", \"John Doe\")\n",
    "\n",
    "# display balance\n",
    "print(\"Balance after account creation : \" , account.balance)\n",
    "\n",
    "account.deposit(1000)\n",
    "\n",
    "# display balance\n",
    "print(\"Balance after depositing money : \" , account.balance)\n",
    "\n",
    "account.withdraw(500)\n",
    "\n",
    "# display balance\n",
    "print(\"Balance after withdrawing money : \" , account.balance)"
   ]
  },
  {
   "cell_type": "markdown",
   "metadata": {},
   "source": [
    "### Problem 2: Employee Management - Create a class representing an employee with attributes like employee ID, name, and salary. Implement methods to calculate the yearly bonus and display employee details.\n",
    "\n"
   ]
  },
  {
   "cell_type": "code",
   "execution_count": 9,
   "metadata": {},
   "outputs": [
    {
     "name": "stdout",
     "output_type": "stream",
     "text": [
      "Employee ID: 1\n",
      "Name: John Doe\n",
      "Salary: 50000\n",
      "Yearly Bonus: 5000.0\n"
     ]
    }
   ],
   "source": [
    "class Employee:\n",
    "    def __init__(self, employee_id, name, salary):\n",
    "        self.employee_id = employee_id\n",
    "        self.name = name\n",
    "        self.salary = salary\n",
    "\n",
    "    def calculate_bonus(self, bonus_percentage):\n",
    "        return (bonus_percentage / 100) * self.salary\n",
    "\n",
    "    def display_details(self):\n",
    "        print(f\"Employee ID: {self.employee_id}\")\n",
    "        print(f\"Name: {self.name}\")\n",
    "        print(f\"Salary: {self.salary}\")\n",
    "\n",
    "# initialising employee using constructor\n",
    "employee = Employee(1, \"John Doe\", 50000)\n",
    "bonus = employee.calculate_bonus(10)\n",
    "employee.display_details()\n",
    "print(f\"Yearly Bonus: {bonus}\")"
   ]
  },
  {
   "cell_type": "markdown",
   "metadata": {},
   "source": [
    "### Problem 3: Vehicle Rental - Create a class representing a vehicle rental system. Implement methods to rent a vehicle, return a vehicle, and display available vehicles.\n",
    "\n"
   ]
  },
  {
   "cell_type": "code",
   "execution_count": 38,
   "metadata": {},
   "outputs": [
    {
     "name": "stdout",
     "output_type": "stream",
     "text": [
      "Available vehicles : \n",
      "Vehicle ID: 1, Model: Sedan\n",
      "Vehicle ID: 2, Model: SUV\n",
      "\n",
      "Available vehicles after renting : \n",
      "Vehicle ID: 2, Model: SUV\n"
     ]
    }
   ],
   "source": [
    "# vehicle rental system class\n",
    "class VehicleRental:\n",
    "    def __init__(self):\n",
    "        self.available_vehicles = []\n",
    "\n",
    "    def rent_vehicle(self, vehicle):\n",
    "        self.available_vehicles.remove(vehicle)\n",
    "\n",
    "    def return_vehicle(self, vehicle):\n",
    "        self.available_vehicles.append(vehicle)\n",
    "\n",
    "    def display_available_vehicles(self):\n",
    "        for vehicle in self.available_vehicles:\n",
    "            print(vehicle)\n",
    "\n",
    "# Car details class\n",
    "class Vehicle:\n",
    "    def __init__(self, vehicle_id, model):\n",
    "        self.vehicle_id = vehicle_id\n",
    "        self.model = model\n",
    "\n",
    "    def __str__(self):\n",
    "        return f\"Vehicle ID: {self.vehicle_id}, Model: {self.model}\"\n",
    "\n",
    "# initialising system\n",
    "rental_system = VehicleRental()\n",
    "\n",
    "# defining vehicles \n",
    "car1 = Vehicle(1, \"Sedan\")\n",
    "car2 = Vehicle(2, \"SUV\")\n",
    "\n",
    "# adding vehicles to available list in rental system\n",
    "rental_system.available_vehicles.extend([car1, car2])\n",
    "\n",
    "# display available vehicles\n",
    "print(\"Available vehicles : \")\n",
    "rental_system.display_available_vehicles()\n",
    "\n",
    "# rent a vehicle\n",
    "rental_system.rent_vehicle(car1)\n",
    "\n",
    "# display vailable vihicles\n",
    "print(\"\\nAvailable vehicles after renting : \")\n",
    "rental_system.display_available_vehicles()"
   ]
  },
  {
   "cell_type": "markdown",
   "metadata": {},
   "source": [
    "### Problem 4: Library Catalog - Create classes representing a library and a book. Implement methods to add books to the library, borrow books, and display available books.\n",
    "\n"
   ]
  },
  {
   "cell_type": "code",
   "execution_count": 15,
   "metadata": {},
   "outputs": [
    {
     "name": "stdout",
     "output_type": "stream",
     "text": [
      "Available books before borrowing :\n",
      "Title: Python Programming, Author: John Smith\n",
      "Title: Data Science Handbook, Author: Alice Johnson\n",
      "\n",
      "Available books after borrowing :\n",
      "Title: Data Science Handbook, Author: Alice Johnson\n"
     ]
    }
   ],
   "source": [
    "# making librarry class\n",
    "class Library:\n",
    "    def __init__(self):\n",
    "        self.books = []\n",
    "\n",
    "    # method to add book to the list of books\n",
    "    def add_book(self, book):\n",
    "        self.books.append(book)\n",
    "\n",
    "    # method to borrow book i.e. removing from books list\n",
    "    def borrow_book(self, book):\n",
    "        if book in self.books:\n",
    "            self.books.remove(book)\n",
    "        else:\n",
    "            print(\"Book not available\")\n",
    "\n",
    "    # method to show available books to borrow\n",
    "    def display_available_books(self):\n",
    "        for book in self.books:\n",
    "            print(book)\n",
    "\n",
    "# making book class to have book details in object\n",
    "class Book:\n",
    "    def __init__(self, title, author):\n",
    "        self.title = title\n",
    "        self.author = author\n",
    "\n",
    "    def __str__(self):\n",
    "        return f\"Title: {self.title}, Author: {self.author}\"\n",
    "\n",
    "# initialising library using constructor\n",
    "library = Library()\n",
    "\n",
    "# initialising books using constructor\n",
    "book1 = Book(\"Python Programming\", \"John Smith\")\n",
    "book2 = Book(\"Data Science Handbook\", \"Alice Johnson\")\n",
    "\n",
    "# adding books tot he list of books in library\n",
    "library.add_book(book1)\n",
    "library.add_book(book2)\n",
    "\n",
    "# display available books\n",
    "print(\"Available books before borrowing :\")\n",
    "library.display_available_books()\n",
    "\n",
    "# borrow a book\n",
    "library.borrow_book(book1)\n",
    "\n",
    "# display available books\n",
    "print(\"\\nAvailable books after borrowing :\")\n",
    "library.display_available_books()"
   ]
  },
  {
   "cell_type": "markdown",
   "metadata": {},
   "source": [
    "### Problem 5: Product Inventory - Create classes representing a product and an inventory system. Implement methods to add products to the inventory, update product quantity, and display available products.\n",
    "\n"
   ]
  },
  {
   "cell_type": "code",
   "execution_count": 17,
   "metadata": {},
   "outputs": [
    {
     "name": "stdout",
     "output_type": "stream",
     "text": [
      "Available products : \n",
      "Product: Name: Laptop, Price: 1000, Quantity: 10\n",
      "Product: Name: Mouse, Price: 20, Quantity: 50\n",
      "\n",
      "Available products after updating quantity: \n",
      "Product: Name: Laptop, Price: 1000, Quantity: 5\n",
      "Product: Name: Mouse, Price: 20, Quantity: 50\n"
     ]
    }
   ],
   "source": [
    "class Inventory:\n",
    "    def __init__(self):\n",
    "        self.products = {}\n",
    "\n",
    "    def add_product(self, product, quantity):\n",
    "        if product in self.products:\n",
    "            self.products[product] += quantity\n",
    "        else:\n",
    "            self.products[product] = quantity\n",
    "\n",
    "    def update_product_quantity(self, product, new_quantity):\n",
    "        if product in self.products:\n",
    "            self.products[product] = new_quantity\n",
    "        else:\n",
    "            print(\"Product not found\")\n",
    "\n",
    "    def display_available_products(self):\n",
    "        for product, quantity in self.products.items():\n",
    "            print(f\"Product: {product}, Quantity: {quantity}\")\n",
    "\n",
    "class Product:\n",
    "    def __init__(self, name, price):\n",
    "        self.name = name\n",
    "        self.price = price\n",
    "\n",
    "    def __str__(self):\n",
    "        return f\"Name: {self.name}, Price: {self.price}\"\n",
    "\n",
    "inventory = Inventory()\n",
    "product1 = Product(\"Laptop\", 1000)\n",
    "product2 = Product(\"Mouse\", 20)\n",
    "\n",
    "inventory.add_product(product1, 10)\n",
    "inventory.add_product(product2, 50)\n",
    "\n",
    "# display available products\n",
    "print(\"Available products : \")\n",
    "\n",
    "inventory.display_available_products()\n",
    "\n",
    "inventory.update_product_quantity(product1, 5)\n",
    "\n",
    "# display available products\n",
    "print(\"\\nAvailable products after updating quantity: \")\n",
    "inventory.display_available_products()"
   ]
  },
  {
   "cell_type": "markdown",
   "metadata": {},
   "source": [
    "### Problem 6: Shape Calculation - Create a class representing a shape with attributes like length, width, and height. Implement methods to calculate the area and perimeter of the shape.\n",
    "\n"
   ]
  },
  {
   "cell_type": "code",
   "execution_count": 23,
   "metadata": {},
   "outputs": [
    {
     "name": "stdout",
     "output_type": "stream",
     "text": [
      "Rectangle Area: 20\n",
      "Rectangle Perimeter: 18\n",
      "\n",
      "Triangle Area: 6.0\n",
      "Triangle Perimeter: 12\n"
     ]
    }
   ],
   "source": [
    "class Shape:\n",
    "    def __init__(self, length, width, height):\n",
    "        self.length = length\n",
    "        self.width = width\n",
    "        self.height = height\n",
    "\n",
    "# using inheritence to extend the shape defination with area and perimeter\n",
    "class Rectangle(Shape):\n",
    "    def area(self):\n",
    "        return self.length * self.width\n",
    "    \n",
    "    def perimeter(self):\n",
    "        return 2 * (self.length + self.width)\n",
    "\n",
    "# using inheritence to extend the shape defination with area and perimeter\n",
    "class Triangle(Shape):\n",
    "    def area(self):\n",
    "        # Using Heron's formula to calculate the area of a triangle\n",
    "        s = (self.length + self.width + self.height) / 2\n",
    "        return (s * (s - self.length) * (s - self.width) * (s - self.height)) ** 0.5\n",
    "    \n",
    "    def perimeter(self):\n",
    "        return self.length + self.width + self.height\n",
    "\n",
    "# example\n",
    "rectangle = Rectangle(5, 4, 0)\n",
    "triangle = Triangle(3, 4, 5)\n",
    "\n",
    "print(\"Rectangle Area:\", rectangle.area())\n",
    "print(\"Rectangle Perimeter:\", rectangle.perimeter())\n",
    "print(\"\\nTriangle Area:\", triangle.area())\n",
    "print(\"Triangle Perimeter:\", triangle.perimeter())\n"
   ]
  },
  {
   "cell_type": "markdown",
   "metadata": {},
   "source": [
    "### Problem 7: Student Management - Create a class representing a student with attributes like student ID, name, and grades. Implement methods to calculate the average grade and display student details.\n",
    "\n"
   ]
  },
  {
   "cell_type": "code",
   "execution_count": 24,
   "metadata": {},
   "outputs": [
    {
     "name": "stdout",
     "output_type": "stream",
     "text": [
      "Student ID: 1\n",
      "Name: Alice\n",
      "Average Grade: 81.66666666666667\n"
     ]
    }
   ],
   "source": [
    "class Student:\n",
    "    def __init__(self, student_id, name, grades=[]):\n",
    "        self.student_id = student_id\n",
    "        self.name = name\n",
    "        self.grades = grades\n",
    "\n",
    "    def calculate_average_grade(self):\n",
    "        if len(self.grades) > 0:\n",
    "            return sum(self.grades) / len(self.grades)\n",
    "        else:\n",
    "            return 0\n",
    "\n",
    "    def display_details(self):\n",
    "        print(f\"Student ID: {self.student_id}\")\n",
    "        print(f\"Name: {self.name}\")\n",
    "        print(f\"Average Grade: {self.calculate_average_grade()}\")\n",
    "\n",
    "    def add_grade(self, grade):\n",
    "        self.grades.append(grade)\n",
    "\n",
    "# initialising student using constructor\n",
    "student = Student(1, \"Alice\")\n",
    "\n",
    "# adding grades \n",
    "student.add_grade(90)\n",
    "student.add_grade(85)\n",
    "student.add_grade(70)\n",
    "\n",
    "# display student details\n",
    "student.display_details()"
   ]
  },
  {
   "cell_type": "markdown",
   "metadata": {},
   "source": [
    "### Problem 8: Email Management - Create a class representing an email with attributes like sender, recipient, and subject. Implement methods to send an email and display email details.\n",
    "\n"
   ]
  },
  {
   "cell_type": "code",
   "execution_count": 32,
   "metadata": {},
   "outputs": [
    {
     "name": "stdout",
     "output_type": "stream",
     "text": [
      "Email sent successfully!\n",
      "Email sent successfully!\n",
      "\n",
      "Your sent mails : \n",
      "\n",
      "Email 1:\n",
      "Sender: sender@example.com\n",
      "Recipient: recipient@example.com\n",
      "Subject: Hello\n",
      "Message: This is a test email.\n",
      "\n",
      "Email 2:\n",
      "Sender: sender2@example.com\n",
      "Recipient: recipient2@example.com\n",
      "Subject: Greetings\n",
      "Message: Another test email.\n"
     ]
    }
   ],
   "source": [
    "class Email:\n",
    "    # sent mails list\n",
    "    sent_emails = []\n",
    "\n",
    "    def __init__(self, sender, recipient, subject, message):\n",
    "        self.sender = sender\n",
    "        self.recipient = recipient\n",
    "        self.subject = subject\n",
    "        self.message = message\n",
    "\n",
    "    # send email method, adding mail to sent items \n",
    "    def send_email(self):\n",
    "        Email.sent_emails.append(self)\n",
    "        print(\"Email sent successfully!\")\n",
    "\n",
    "    # method to display email\n",
    "    def display_details(self):\n",
    "        print(f\"Sender: {self.sender}\")\n",
    "        print(f\"Recipient: {self.recipient}\")\n",
    "        print(f\"Subject: {self.subject}\")\n",
    "        print(f\"Message: {self.message}\")\n",
    "\n",
    "    def get_sent_emails():\n",
    "        return sent_emails\n",
    "\n",
    "# examples\n",
    "email1 = Email(\"sender@example.com\", \"recipient@example.com\", \"Hello\", \"This is a test email.\")\n",
    "email1.send_email()\n",
    "\n",
    "email2 = Email(\"sender2@example.com\", \"recipient2@example.com\", \"Greetings\", \"Another test email.\")\n",
    "email2.send_email()\n",
    "\n",
    "sent_emails = Email.get_sent_emails()\n",
    "\n",
    "# display sent mails \n",
    "print(\"\\nYour sent mails : \")\n",
    "for index, email in enumerate(sent_emails, start=1):\n",
    "    print(f\"\\nEmail {index}:\")\n",
    "    email.display_details()\n"
   ]
  },
  {
   "cell_type": "markdown",
   "metadata": {},
   "source": [
    "### Problem 9: Social Media Profile - Create a class representing a social media profile with attributes like username and posts. Implement methods to add posts, display posts, and search for posts by keyword.\n",
    "\n"
   ]
  },
  {
   "cell_type": "code",
   "execution_count": 36,
   "metadata": {},
   "outputs": [
    {
     "name": "stdout",
     "output_type": "stream",
     "text": [
      "\n",
      "Posts : \n",
      "Hello world!\n",
      "Python is fun.\n",
      "Python is awesome.\n",
      "\n",
      "Search Results for 'Python'\n",
      "Python is fun.\n",
      "Python is awesome.\n"
     ]
    }
   ],
   "source": [
    "class SocialMediaProfile:\n",
    "    def __init__(self, username, posts=[]):\n",
    "        self.username = username\n",
    "        self.posts = posts\n",
    "\n",
    "    def add_post(self, post):\n",
    "        self.posts.append(post)\n",
    "\n",
    "    def display_posts(self):\n",
    "        for post in self.posts:\n",
    "            print(post)\n",
    "\n",
    "    def search_posts(self, keyword):\n",
    "        matching_posts = [post for post in self.posts if keyword in post]\n",
    "        return matching_posts\n",
    "\n",
    "# example\n",
    "profile = SocialMediaProfile(\"user123\")\n",
    "\n",
    "profile.add_post(\"Hello world!\")\n",
    "profile.add_post(\"Python is fun.\")\n",
    "profile.add_post(\"Python is awesome.\")\n",
    "\n",
    "# display posts\n",
    "print(\"\\nPosts : \")\n",
    "profile.display_posts()\n",
    "\n",
    "# searching for post\n",
    "keyword = \"Python\"\n",
    "results = profile.search_posts(keyword)\n",
    "\n",
    "print(f\"\\nSearch Results for '{keyword}'\")\n",
    "for result in results:\n",
    "    print(result)\n"
   ]
  },
  {
   "cell_type": "markdown",
   "metadata": {},
   "source": [
    "### Problem 10: ToDo List - Create a class representing a ToDo list with attributes like tasks and due dates. Implement methods to add tasks, mark tasks as completed, and display pending tasks.\n"
   ]
  },
  {
   "cell_type": "code",
   "execution_count": 37,
   "metadata": {},
   "outputs": [
    {
     "name": "stdout",
     "output_type": "stream",
     "text": [
      "Task: Finish report, Due Date: 2023-10-15\n",
      "Task: Buy groceries, Due Date: 2023-10-10\n",
      "\n",
      "Pending tasks after completing one task\n",
      "Task: Finish report, Due Date: 2023-10-15\n"
     ]
    }
   ],
   "source": [
    "class ToDoList:\n",
    "    def __init__(self):\n",
    "        self.tasks = []\n",
    "\n",
    "    def add_task(self, task, due_date):\n",
    "        self.tasks.append({\"task\": task, \"due_date\": due_date, \"completed\": False})\n",
    "\n",
    "    def mark_task_as_completed(self, task):\n",
    "        for t in self.tasks:\n",
    "            if t[\"task\"] == task:\n",
    "                t[\"completed\"] = True\n",
    "\n",
    "    def display_pending_tasks(self):\n",
    "        pending_tasks = [task for task in self.tasks if not task[\"completed\"]]\n",
    "        for task in pending_tasks:\n",
    "            print(f\"Task: {task['task']}, Due Date: {task['due_date']}\")\n",
    "\n",
    "# example\n",
    "to_do_list = ToDoList()\n",
    "\n",
    "# adding todo tasks \n",
    "to_do_list.add_task(\"Finish report\", \"2023-10-15\")\n",
    "to_do_list.add_task(\"Buy groceries\", \"2023-10-10\")\n",
    "\n",
    "\n",
    "# display the pending tasks\n",
    "to_do_list.display_pending_tasks()\n",
    "\n",
    "# marking task as completed\n",
    "to_do_list.mark_task_as_completed(\"Buy groceries\")\n",
    "\n",
    "# display the pending tasks\n",
    "print(\"\\nPending tasks after completing one task\")\n",
    "to_do_list.display_pending_tasks()"
   ]
  }
 ],
 "metadata": {
  "kernelspec": {
   "display_name": "Python 3",
   "language": "python",
   "name": "python3"
  },
  "language_info": {
   "codemirror_mode": {
    "name": "ipython",
    "version": 3
   },
   "file_extension": ".py",
   "mimetype": "text/x-python",
   "name": "python",
   "nbconvert_exporter": "python",
   "pygments_lexer": "ipython3",
   "version": "3.11.3"
  }
 },
 "nbformat": 4,
 "nbformat_minor": 2
}
