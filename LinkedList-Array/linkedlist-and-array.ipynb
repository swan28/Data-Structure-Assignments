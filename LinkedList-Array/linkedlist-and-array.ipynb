{
 "cells": [
  {
   "cell_type": "markdown",
   "id": "770b9928",
   "metadata": {},
   "source": [
    "### 1: Reverse a singly linked list.\n",
    "\n",
    "**Input:** `1 -> 2 -> 3 -> 4 -> 5`\n",
    "\n",
    "**Output:** `5 -> 4 -> 3 -> 2 -> 1`\n"
   ]
  },
  {
   "cell_type": "code",
   "execution_count": 5,
   "id": "4e293858",
   "metadata": {},
   "outputs": [
    {
     "name": "stdout",
     "output_type": "stream",
     "text": [
      "Original Linked List is: \n",
      "1 -> 2 -> 3 -> 4 -> 5\n",
      "Reverse Linked List is: \n",
      "5 -> 4 -> 3 -> 2 -> 1"
     ]
    }
   ],
   "source": [
    "class ListNode:\n",
    "    def __init__(self, val=0, next=None):\n",
    "        self.val=val\n",
    "        self.next=next\n",
    "\n",
    "def reversedLinkedlist(head):\n",
    "    prev=None\n",
    "    current=head\n",
    "    \n",
    "    while current:\n",
    "        next_node=current.next\n",
    "        current.next=prev\n",
    "        prev=current\n",
    "        current=next_node\n",
    "    \n",
    "    return prev\n",
    "\n",
    "def printList(head):\n",
    "    while head:\n",
    "        print(head.val, end=' -> ' if head.next else '')\n",
    "        head=head.next\n",
    "        \n",
    "head=ListNode(1)\n",
    "head.next=ListNode(2)\n",
    "head.next.next=ListNode(3)\n",
    "head.next.next.next=ListNode(4)\n",
    "head.next.next.next.next=ListNode(5)\n",
    "\n",
    "print('Original Linked List is: ')\n",
    "printList(head)\n",
    "print()\n",
    "\n",
    "reverse_head=reversedLinkedlist(head)\n",
    "print('Reverse Linked List is: ')\n",
    "printList(reverse_head)"
   ]
  },
  {
   "cell_type": "markdown",
   "id": "9e5c5437",
   "metadata": {},
   "source": [
    "### 2: Merge two sorted linked lists into one sorted linked list.\n",
    "**Input**: List 1: `1 -> 3 -> 5, List 2: 2 -> 4 -> 6`\n",
    "\n",
    "**Output**: `1 -> 2 -> 3 -> 4 -> 5 -> 6`\n"
   ]
  },
  {
   "cell_type": "code",
   "execution_count": 7,
   "id": "04ad2a8c",
   "metadata": {},
   "outputs": [
    {
     "name": "stdout",
     "output_type": "stream",
     "text": [
      "List1 is: \n",
      "1 -> 3 -> 5\n",
      " List2 is: \n",
      "2 -> 4 -> 6\n",
      "Merged List:\n",
      "1 -> 2 -> 3 -> 4 -> 5 -> 6"
     ]
    }
   ],
   "source": [
    "class ListNode:\n",
    "    def __init__(self, val=0, next=None):\n",
    "        self.val=val\n",
    "        self.next=next\n",
    "        \n",
    "def Mergelist(l1, l2):\n",
    "    dummy=ListNode\n",
    "    current=dummy\n",
    "    \n",
    "    while l1 and l2:\n",
    "        if l1.val<l2.val:\n",
    "            current.next=l1\n",
    "            l1=l1.next\n",
    "        else:\n",
    "            current.next=l2\n",
    "            l2=l2.next\n",
    "        current=current.next\n",
    "    \n",
    "    if l1:\n",
    "        current.next=l1\n",
    "    if l2:\n",
    "        current.next=l2\n",
    "    \n",
    "    return dummy.next\n",
    "\n",
    "def printList(head):\n",
    "    while head:\n",
    "        print(head.val, end=' -> ' if head.next else '')\n",
    "        head=head.next\n",
    "        \n",
    "list1=ListNode(1)\n",
    "list1.next=ListNode(3)\n",
    "list1.next.next=ListNode(5)\n",
    "\n",
    "list2=ListNode(2)\n",
    "list2.next=ListNode(4)\n",
    "list2.next.next=ListNode(6)\n",
    "\n",
    "print('List1 is: ')\n",
    "printList(list1)\n",
    "print('\\n List2 is: ')\n",
    "printList(list2)\n",
    "\n",
    "merging_list=Mergelist(list1, list2)\n",
    "\n",
    "print('\\nMerged List:')\n",
    "printList(merging_list)"
   ]
  },
  {
   "cell_type": "markdown",
   "id": "82a8a16d",
   "metadata": {},
   "source": [
    "### 3: Remove the nth node from the end of a linked list.\n",
    "**Input**: `1 -> 2 -> 3 -> 4 -> 5, n = 2`\n",
    "\n",
    "**Output**: `1 -> 2 -> 3 -> 5`"
   ]
  },
  {
   "cell_type": "code",
   "execution_count": 8,
   "id": "d8e3b69b",
   "metadata": {},
   "outputs": [
    {
     "name": "stdout",
     "output_type": "stream",
     "text": [
      "Original linked list:\n",
      "1 -> 2 -> 3 -> 4 -> 5\n",
      "Linked list after removing 2th node from the end:\n",
      "1 -> 2 -> 3 -> 5"
     ]
    }
   ],
   "source": [
    "class ListNode:\n",
    "    def __init__(self, val=0, next=None):\n",
    "        self.val = val\n",
    "        self.next = next\n",
    "\n",
    "def removeNthFromEnd(head, n):\n",
    "    dummy = ListNode(0)\n",
    "    dummy.next = head\n",
    "\n",
    "    fast = dummy\n",
    "    slow = dummy\n",
    "\n",
    "    \n",
    "    for _ in range(n + 1):\n",
    "        fast = fast.next\n",
    "\n",
    "    \n",
    "    while fast:\n",
    "        fast = fast.next\n",
    "        slow = slow.next\n",
    "\n",
    "    \n",
    "    slow.next = slow.next.next\n",
    "\n",
    "    return dummy.next\n",
    "\n",
    "\n",
    "def printList(head):\n",
    "    while head:\n",
    "        print(head.val, end=\" -> \" if head.next else \"\")\n",
    "        head = head.next\n",
    "\n",
    "\n",
    "head = ListNode(1)\n",
    "head.next = ListNode(2)\n",
    "head.next.next = ListNode(3)\n",
    "head.next.next.next = ListNode(4)\n",
    "head.next.next.next.next = ListNode(5)\n",
    "\n",
    "print(\"Original linked list:\")\n",
    "printList(head)\n",
    "print()\n",
    "\n",
    "n = 2\n",
    "head = removeNthFromEnd(head, n)\n",
    "\n",
    "print(f\"Linked list after removing {n}th node from the end:\")\n",
    "printList(head)"
   ]
  },
  {
   "cell_type": "markdown",
   "id": "b717229b",
   "metadata": {},
   "source": [
    "### 4: Find the intersection point of two linked lists.\n",
    "**Input**: List 1: 1 -> 2 -> 3 -> 4, List 2: 9 -> 8 -> 3 -> 4\n",
    "\n",
    "**Output**: Node with value 3"
   ]
  },
  {
   "cell_type": "code",
   "execution_count": 9,
   "id": "766e27da",
   "metadata": {},
   "outputs": [
    {
     "name": "stdout",
     "output_type": "stream",
     "text": [
      "List 1:\n",
      "1 -> 2 -> 3 -> 4\n",
      "List 2:\n",
      "9 -> 8 -> 3 -> 4\n",
      "Intersection point: Node with value 3\n"
     ]
    }
   ],
   "source": [
    "class ListNode:\n",
    "    def __init__(self, val=0, next=None):\n",
    "        self.val = val\n",
    "        self.next = next\n",
    "\n",
    "def getIntersectionNode(headA, headB):\n",
    "    \n",
    "    if not headA or not headB:\n",
    "        return None\n",
    "\n",
    "    \n",
    "    ptrA = headA\n",
    "    ptrB = headB\n",
    "\n",
    "    \n",
    "    while ptrA != ptrB:\n",
    "        \n",
    "        ptrA = ptrA.next if ptrA else headB\n",
    "        ptrB = ptrB.next if ptrB else headA\n",
    "\n",
    "    return ptrA\n",
    "\n",
    "\n",
    "def printList(head):\n",
    "    while head:\n",
    "        print(head.val, end=\" -> \" if head.next else \"\")\n",
    "        head = head.next\n",
    "\n",
    "\n",
    "list1 = ListNode(1)\n",
    "list1.next = ListNode(2)\n",
    "list1.next.next = ListNode(3)\n",
    "list1.next.next.next = ListNode(4)\n",
    "\n",
    "list2 = ListNode(9)\n",
    "list2.next = ListNode(8)\n",
    "list2.next.next = list1.next.next\n",
    "\n",
    "\n",
    "print(\"List 1:\")\n",
    "printList(list1)\n",
    "print(\"\\nList 2:\")\n",
    "printList(list2)\n",
    "\n",
    "intersection_node = getIntersectionNode(list1, list2)\n",
    "\n",
    "if intersection_node:\n",
    "    print(f\"\\nIntersection point: Node with value {intersection_node.val}\")\n",
    "else:\n",
    "    print(\"\\nNo intersection point found.\")"
   ]
  },
  {
   "cell_type": "markdown",
   "id": "5e14af69",
   "metadata": {},
   "source": [
    "### 5: Remove duplicates from a sorted linked list.\n",
    "**Input**: `1 -> 1 -> 2 -> 3 -> 3`\n",
    "\n",
    "**Output**: `1 -> 2 -> 3`"
   ]
  },
  {
   "cell_type": "code",
   "execution_count": 10,
   "id": "c94f6e92",
   "metadata": {},
   "outputs": [
    {
     "name": "stdout",
     "output_type": "stream",
     "text": [
      "Original linked list:\n",
      "1 -> 1 -> 2 -> 3 -> 3\n",
      "Linked list after removing duplicates:\n",
      "1 -> 2 -> 3"
     ]
    }
   ],
   "source": [
    "class ListNode:\n",
    "    def __init__(self, val=0, next=None):\n",
    "        self.val = val\n",
    "        self.next = next\n",
    "\n",
    "def deleteDuplicates(head):\n",
    "    current = head\n",
    "\n",
    "    while current and current.next:\n",
    "        if current.val == current.next.val:\n",
    "            current.next = current.next.next\n",
    "        else:\n",
    "            current = current.next\n",
    "\n",
    "    return head\n",
    "\n",
    "\n",
    "def printList(head):\n",
    "    while head:\n",
    "        print(head.val, end=\" -> \" if head.next else \"\")\n",
    "        head = head.next\n",
    "\n",
    "\n",
    "head = ListNode(1)\n",
    "head.next = ListNode(1)\n",
    "head.next.next = ListNode(2)\n",
    "head.next.next.next = ListNode(3)\n",
    "head.next.next.next.next = ListNode(3)\n",
    "\n",
    "print(\"Original linked list:\")\n",
    "printList(head)\n",
    "print()\n",
    "\n",
    "head = deleteDuplicates(head)\n",
    "\n",
    "print(\"Linked list after removing duplicates:\")\n",
    "printList(head)"
   ]
  },
  {
   "cell_type": "markdown",
   "id": "7d3d0048",
   "metadata": {},
   "source": [
    "### 6: Add two numbers represented by linked lists (where each node contains a single digit).\n",
    "**Input**: `List 1: 2 -> 4 -> 3, List 2: 5 -> 6 -> 4 (represents 342 + 465)`\n",
    "\n",
    "**Output**: `7 -> 0 -> 8 (represents 807)`"
   ]
  },
  {
   "cell_type": "code",
   "execution_count": 11,
   "id": "cfdb7e9a",
   "metadata": {},
   "outputs": [
    {
     "name": "stdout",
     "output_type": "stream",
     "text": [
      "List 1:\n",
      "2 -> 4 -> 3\n",
      "List 2:\n",
      "5 -> 6 -> 4\n",
      "Sum of the two numbers:\n",
      "7 -> 0 -> 8"
     ]
    }
   ],
   "source": [
    "class ListNode:\n",
    "    def __init__(self, val=0, next=None):\n",
    "        self.val = val\n",
    "        self.next = next\n",
    "\n",
    "def addTwoNumbers(l1, l2):\n",
    "    dummy = ListNode()\n",
    "    current = dummy\n",
    "    carry = 0\n",
    "\n",
    "    while l1 or l2 or carry:\n",
    "        sum_val = carry\n",
    "\n",
    "       \n",
    "        if l1:\n",
    "            sum_val += l1.val\n",
    "            l1 = l1.next\n",
    "        if l2:\n",
    "            sum_val += l2.val\n",
    "            l2 = l2.next\n",
    "\n",
    "        \n",
    "        carry = sum_val // 10\n",
    "        digit = sum_val % 10\n",
    "\n",
    "       \n",
    "        current.next = ListNode(digit)\n",
    "        current = current.next\n",
    "\n",
    "    return dummy.next\n",
    "\n",
    "\n",
    "def printList(head):\n",
    "    while head:\n",
    "        print(head.val, end=\" -> \" if head.next else \"\")\n",
    "        head = head.next\n",
    "\n",
    "\n",
    "list1 = ListNode(2)\n",
    "list1.next = ListNode(4)\n",
    "list1.next.next = ListNode(3)\n",
    "\n",
    "list2 = ListNode(5)\n",
    "list2.next = ListNode(6)\n",
    "list2.next.next = ListNode(4)\n",
    "\n",
    "print(\"List 1:\")\n",
    "printList(list1)\n",
    "print(\"\\nList 2:\")\n",
    "printList(list2)\n",
    "\n",
    "sum_list = addTwoNumbers(list1, list2)\n",
    "\n",
    "print(\"\\nSum of the two numbers:\")\n",
    "printList(sum_list)"
   ]
  },
  {
   "cell_type": "markdown",
   "id": "6e9d690d",
   "metadata": {},
   "source": [
    "### 7: Swap nodes in pairs in a linked list.\n",
    "**Input**: 1 -> 2 -> 3 -> 4\n",
    "**Output**: 2 -> 1 -> 4 -> 3"
   ]
  },
  {
   "cell_type": "code",
   "execution_count": 12,
   "id": "a1445866",
   "metadata": {},
   "outputs": [
    {
     "name": "stdout",
     "output_type": "stream",
     "text": [
      "Original linked list:\n",
      "1 -> 2 -> 3 -> 4\n",
      "Linked list after swapping pairs:\n",
      "2 -> 1 -> 4 -> 3"
     ]
    }
   ],
   "source": [
    "class ListNode:\n",
    "    def __init__(self, val=0, next=None):\n",
    "        self.val = val\n",
    "        self.next = next\n",
    "\n",
    "def swapPairs(head):\n",
    "    dummy = ListNode(0)\n",
    "    dummy.next = head\n",
    "    prev = dummy\n",
    "\n",
    "    while prev.next and prev.next.next:\n",
    "        first = prev.next\n",
    "        second = prev.next.next\n",
    "\n",
    "        # Swapping nodes\n",
    "        prev.next = second\n",
    "        first.next = second.next\n",
    "        second.next = first\n",
    "\n",
    "        \n",
    "        prev = first\n",
    "\n",
    "    return dummy.next\n",
    "\n",
    "\n",
    "def printList(head):\n",
    "    while head:\n",
    "        print(head.val, end=\" -> \" if head.next else \"\")\n",
    "        head = head.next\n",
    "\n",
    "\n",
    "head = ListNode(1)\n",
    "head.next = ListNode(2)\n",
    "head.next.next = ListNode(3)\n",
    "head.next.next.next = ListNode(4)\n",
    "\n",
    "print(\"Original linked list:\")\n",
    "printList(head)\n",
    "print()\n",
    "\n",
    "head = swapPairs(head)\n",
    "\n",
    "print(\"Linked list after swapping pairs:\")\n",
    "printList(head)"
   ]
  },
  {
   "cell_type": "markdown",
   "id": "2f97a7b1",
   "metadata": {},
   "source": [
    "### 8: Reverse nodes in a linked list in groups of k.\n",
    "**Input**: `1 -> 2 -> 3 -> 4 -> 5, k = 3`\n",
    "\n",
    "**Output**: `3 -> 2 -> 1 -> 4 -> 5`"
   ]
  },
  {
   "cell_type": "code",
   "execution_count": 13,
   "id": "3acf3915",
   "metadata": {},
   "outputs": [
    {
     "name": "stdout",
     "output_type": "stream",
     "text": [
      "Original linked list:\n",
      "1 -> 2 -> 3 -> 4 -> 5\n",
      "Linked list after reversing nodes in groups of 3:\n",
      "3 -> 2 -> 1 -> 4 -> 5"
     ]
    }
   ],
   "source": [
    "class ListNode:\n",
    "    def __init__(self, val=0, next=None):\n",
    "        self.val = val\n",
    "        self.next = next\n",
    "\n",
    "def reverseKGroup(head, k):\n",
    "    def reverseLinkedList(head):\n",
    "        prev = None\n",
    "        current = head\n",
    "\n",
    "        while current:\n",
    "            next_node = current.next\n",
    "            current.next = prev\n",
    "            prev = current\n",
    "            current = next_node\n",
    "\n",
    "        return prev\n",
    "\n",
    "    dummy = ListNode(0)\n",
    "    dummy.next = head\n",
    "    prev_group_tail = dummy\n",
    "\n",
    "    while True:\n",
    "        \n",
    "        group_start = prev_group_tail.next\n",
    "        group_end = group_start\n",
    "\n",
    "        for _ in range(k - 1):\n",
    "            if group_end:\n",
    "                group_end = group_end.next\n",
    "\n",
    "        \n",
    "        if not group_end:\n",
    "            break\n",
    "\n",
    "        \n",
    "        next_group_head = group_end.next\n",
    "\n",
    "        \n",
    "        group_end.next = None\n",
    "\n",
    "        \n",
    "        prev_group_tail.next = reverseLinkedList(group_start)\n",
    "\n",
    "        \n",
    "        group_start.next = next_group_head\n",
    "\n",
    "        \n",
    "        prev_group_tail = group_start\n",
    "\n",
    "    return dummy.next\n",
    "\n",
    "\n",
    "def printList(head):\n",
    "    while head:\n",
    "        print(head.val, end=\" -> \" if head.next else \"\")\n",
    "        head = head.next\n",
    "\n",
    "\n",
    "head = ListNode(1)\n",
    "head.next = ListNode(2)\n",
    "head.next.next = ListNode(3)\n",
    "head.next.next.next = ListNode(4)\n",
    "head.next.next.next.next = ListNode(5)\n",
    "\n",
    "print(\"Original linked list:\")\n",
    "printList(head)\n",
    "print()\n",
    "\n",
    "k = 3\n",
    "head = reverseKGroup(head, k)\n",
    "\n",
    "print(f\"Linked list after reversing nodes in groups of {k}:\")\n",
    "printList(head)"
   ]
  },
  {
   "cell_type": "markdown",
   "id": "f5d8c6d1",
   "metadata": {},
   "source": [
    "### 9: Determine if a linked list is a palindrome.\n",
    "**Input**: `1 -> 2 -> 2 -> 1`\n",
    "\n",
    "**Output**: `True`"
   ]
  },
  {
   "cell_type": "code",
   "execution_count": 14,
   "id": "457a072d",
   "metadata": {},
   "outputs": [
    {
     "name": "stdout",
     "output_type": "stream",
     "text": [
      "Linked list:\n",
      "1 -> 2 -> 2 -> 1\n",
      "Is the linked list a palindrome? True\n"
     ]
    }
   ],
   "source": [
    "class ListNode:\n",
    "    def __init__(self, val=0, next=None):\n",
    "        self.val = val\n",
    "        self.next = next\n",
    "\n",
    "def isPalindrome(head):\n",
    "    def reverseLinkedList(head):\n",
    "        prev = None\n",
    "        current = head\n",
    "\n",
    "        while current:\n",
    "            next_node = current.next\n",
    "            current.next = prev\n",
    "            prev = current\n",
    "            current = next_node\n",
    "\n",
    "        return prev\n",
    "\n",
    "    \n",
    "    slow = head\n",
    "    fast = head\n",
    "\n",
    "    while fast and fast.next:\n",
    "        slow = slow.next\n",
    "        fast = fast.next.next\n",
    "\n",
    "    \n",
    "    reversed_second_half = reverseLinkedList(slow)\n",
    "\n",
    "   \n",
    "    while reversed_second_half:\n",
    "        if head.val != reversed_second_half.val:\n",
    "            return False\n",
    "        head = head.next\n",
    "        reversed_second_half = reversed_second_half.next\n",
    "\n",
    "    return True\n",
    "\n",
    "\n",
    "head = ListNode(1)\n",
    "head.next = ListNode(2)\n",
    "head.next.next = ListNode(2)\n",
    "head.next.next.next = ListNode(1)\n",
    "\n",
    "print(\"Linked list:\")\n",
    "while head:\n",
    "    print(head.val, end=\" -> \" if head.next else \"\")\n",
    "    head = head.next\n",
    "print()\n",
    "\n",
    "is_palindrome = isPalindrome(head)\n",
    "\n",
    "print(\"Is the linked list a palindrome?\", is_palindrome)"
   ]
  },
  {
   "cell_type": "markdown",
   "id": "c73425f5",
   "metadata": {},
   "source": [
    "### Problem 10: Rotate a linked list to the right by k places.\n",
    "### Input: 1 -> 2 -> 3 -> 4 -> 5, k = 2\n",
    "### Output: 4 -> 5 -> 1 -> 2 -> 3"
   ]
  },
  {
   "cell_type": "code",
   "execution_count": 15,
   "id": "b673b80c",
   "metadata": {},
   "outputs": [
    {
     "name": "stdout",
     "output_type": "stream",
     "text": [
      "Original linked list:\n",
      "1 -> 2 -> 3 -> 4 -> 5\n",
      "Linked list after rotating right by 2 places:\n",
      "4 -> 5 -> 1 -> 2 -> 3"
     ]
    }
   ],
   "source": [
    "\n",
    "class ListNode:\n",
    "    def __init__(self, val=0, next=None):\n",
    "        self.val = val\n",
    "        self.next = next\n",
    "\n",
    "def rotateRight(head, k):\n",
    "    if not head or k == 0:\n",
    "        return head\n",
    "\n",
    "    \n",
    "    length = 1\n",
    "    last_node = head\n",
    "    while last_node.next:\n",
    "        length += 1\n",
    "        last_node = last_node.next\n",
    "\n",
    "   \n",
    "    k %= length\n",
    "    if k == 0:\n",
    "        return head\n",
    "\n",
    "    \n",
    "    new_tail_index = length - k - 1\n",
    "    new_tail = head\n",
    "    for _ in range(new_tail_index):\n",
    "        new_tail = new_tail.next\n",
    "\n",
    "    \n",
    "    new_head = new_tail.next\n",
    "    new_tail.next = None\n",
    "    last_node.next = head\n",
    "\n",
    "    return new_head\n",
    "\n",
    "\n",
    "def printList(head):\n",
    "    while head:\n",
    "        print(head.val, end=\" -> \" if head.next else \"\")\n",
    "        head = head.next\n",
    "\n",
    "\n",
    "head = ListNode(1)\n",
    "head.next = ListNode(2)\n",
    "head.next.next = ListNode(3)\n",
    "head.next.next.next = ListNode(4)\n",
    "head.next.next.next.next = ListNode(5)\n",
    "\n",
    "print(\"Original linked list:\")\n",
    "printList(head)\n",
    "print()\n",
    "\n",
    "k = 2\n",
    "head = rotateRight(head, k)\n",
    "\n",
    "print(f\"Linked list after rotating right by {k} places:\")\n",
    "printList(head)"
   ]
  },
  {
   "cell_type": "markdown",
   "id": "a458ad70",
   "metadata": {},
   "source": [
    "### 11: Flatten a multilevel doubly linked list.\n",
    "### Input: 1 <-> 2 <-> 3 <-> 7 <-> 8 <-> 11 -> 12, 4 <-> 5 -> 9 -> 10, 6 -> 13\n",
    "### Output: 1 <-> 2 <-> 3 <-> 4 <-> 5 <-> 6 <-> 7 <-> 8 <-> 9 <-> 10 <-> 11 <-> 12 <-> 13"
   ]
  },
  {
   "cell_type": "code",
   "execution_count": 16,
   "id": "28ea86f0",
   "metadata": {},
   "outputs": [
    {
     "name": "stdout",
     "output_type": "stream",
     "text": [
      "1 <-> 2 <-> 3 <-> 4 <-> 5 <-> 6 <-> 7 <-> 8 <-> 9 <-> 10 <-> 11 <-> 12 <-> 13"
     ]
    }
   ],
   "source": [
    "\n",
    "class Node:\n",
    "    def __init__(self, val, prev=None, next=None, child=None):\n",
    "        self.val = val\n",
    "        self.prev = prev\n",
    "        self.next = next\n",
    "        self.child = child\n",
    "\n",
    "def flatten(head):\n",
    "    if not head:\n",
    "        return head\n",
    "    \n",
    "    pseudo_head = Node(0)\n",
    "    pseudo_head.next = head\n",
    "    prev = pseudo_head\n",
    "    \n",
    "    stack = []\n",
    "    stack.append(head)\n",
    "    \n",
    "    while stack:\n",
    "        curr = stack.pop()\n",
    "\n",
    "        prev.next = curr\n",
    "        curr.prev = prev\n",
    "\n",
    "        if curr.next:\n",
    "            stack.append(curr.next)\n",
    "            curr.next = None\n",
    "\n",
    "        if curr.child:\n",
    "            stack.append(curr.child)\n",
    "            curr.child = None\n",
    "        \n",
    "        prev = curr\n",
    "\n",
    "    pseudo_head.next.prev = None\n",
    "    return pseudo_head.next\n",
    "\n",
    "nodes = [Node(i) for i in range(1, 14)]\n",
    "\n",
    "nodes[0].next = nodes[1]\n",
    "nodes[1].next = nodes[2]\n",
    "nodes[2].next = nodes[3]\n",
    "nodes[3].child = nodes[4]\n",
    "\n",
    "nodes[4].next = nodes[5]\n",
    "nodes[5].next = nodes[6]\n",
    "nodes[6].child = nodes[7]\n",
    "\n",
    "nodes[7].next = nodes[8]\n",
    "nodes[8].next = nodes[9]\n",
    "nodes[9].child = nodes[10]\n",
    "\n",
    "nodes[10].next = nodes[11]\n",
    "nodes[11].next = nodes[12]\n",
    "\n",
    "for i in range(1, 13):\n",
    "    nodes[i].prev = nodes[i - 1]\n",
    "\n",
    "flat_head = flatten(nodes[0])\n",
    "\n",
    "current = flat_head\n",
    "while current:\n",
    "    print(current.val, end=\" <-> \" if current.next else \"\")\n",
    "    current = current.next"
   ]
  },
  {
   "cell_type": "markdown",
   "id": "c9963af9",
   "metadata": {},
   "source": [
    "### 12: Rearrange a linked list such that all even positioned nodes are placed at the end.\n",
    "### Input: 1 -> 2 -> 3 -> 4 -> 5\n",
    "### Output: 1 -> 3 -> 5 -> 2 -> 4"
   ]
  },
  {
   "cell_type": "code",
   "execution_count": 17,
   "id": "497f5725",
   "metadata": {},
   "outputs": [
    {
     "name": "stdout",
     "output_type": "stream",
     "text": [
      "Original linked list:\n",
      "1 -> 2 -> 3 -> 4 -> 5\n",
      "Rearranged linked list:\n",
      "1 -> 3 -> 5 -> 2 -> 4"
     ]
    }
   ],
   "source": [
    "\n",
    "class ListNode:\n",
    "    def __init__(self, val=0, next=None):\n",
    "        self.val = val\n",
    "        self.next = next\n",
    "\n",
    "def rearrangeLinkedList(head):\n",
    "    if not head or not head.next:\n",
    "        return head\n",
    "\n",
    "    \n",
    "    odd_head = ListNode()\n",
    "    even_head = ListNode()\n",
    "    odd_tail = odd_head\n",
    "    even_tail = even_head\n",
    "\n",
    "    count = 1\n",
    "    curr = head\n",
    "    while curr:\n",
    "        if count % 2 == 1:\n",
    "            odd_tail.next = curr\n",
    "            odd_tail = odd_tail.next\n",
    "        else:\n",
    "            even_tail.next = curr\n",
    "            even_tail = even_tail.next\n",
    "        curr = curr.next\n",
    "        count += 1\n",
    "\n",
    "   \n",
    "    odd_tail.next = even_head.next\n",
    "    even_tail.next = None\n",
    "\n",
    "    return odd_head.next\n",
    "\n",
    "\n",
    "def printList(head):\n",
    "    while head:\n",
    "        print(head.val, end=\" -> \" if head.next else \"\")\n",
    "        head = head.next\n",
    "\n",
    "\n",
    "head = ListNode(1)\n",
    "head.next = ListNode(2)\n",
    "head.next.next = ListNode(3)\n",
    "head.next.next.next = ListNode(4)\n",
    "head.next.next.next.next = ListNode(5)\n",
    "\n",
    "print(\"Original linked list:\")\n",
    "printList(head)\n",
    "print()\n",
    "\n",
    "head = rearrangeLinkedList(head)\n",
    "\n",
    "print(\"Rearranged linked list:\")\n",
    "printList(head)"
   ]
  },
  {
   "cell_type": "markdown",
   "id": "b813bab6",
   "metadata": {},
   "source": [
    "### 13: Given a non-negative number represented as a linked list, add one to it.\n",
    "### Input: 1 -> 2 -> 3 (represents the number 123)\n",
    "### Output: 1 -> 2 -> 4 (represents the number 124)"
   ]
  },
  {
   "cell_type": "code",
   "execution_count": 18,
   "id": "0913e1a1",
   "metadata": {},
   "outputs": [
    {
     "name": "stdout",
     "output_type": "stream",
     "text": [
      "Original linked list:\n",
      "1 -> 2 -> 3\n",
      "Linked list after adding one:\n",
      "1 -> 2 -> 4"
     ]
    }
   ],
   "source": [
    "\n",
    "class ListNode:\n",
    "    def __init__(self, val=0, next=None):\n",
    "        self.val = val\n",
    "        self.next = next\n",
    "\n",
    "def addOne(head):\n",
    "    \n",
    "    prev = None\n",
    "    current = head\n",
    "    while current:\n",
    "        next_node = current.next\n",
    "        current.next = prev\n",
    "        prev = current\n",
    "        current = next_node\n",
    "    head = prev\n",
    "\n",
    "    \n",
    "    current = head\n",
    "    carry = 1\n",
    "    while current:\n",
    "        total = current.val + carry\n",
    "        current.val = total % 10\n",
    "        carry = total // 10\n",
    "        if carry == 0:\n",
    "            break\n",
    "        if not current.next:\n",
    "            current.next = ListNode(carry)\n",
    "            break\n",
    "        current = current.next\n",
    "\n",
    "    \n",
    "    prev = None\n",
    "    current = head\n",
    "    while current:\n",
    "        next_node = current.next\n",
    "        current.next = prev\n",
    "        prev = current\n",
    "        current = next_node\n",
    "    head = prev\n",
    "\n",
    "    return head\n",
    "\n",
    "\n",
    "def printList(head):\n",
    "    while head:\n",
    "        print(head.val, end=\" -> \" if head.next else \"\")\n",
    "        head = head.next\n",
    "\n",
    "\n",
    "head = ListNode(1)\n",
    "head.next = ListNode(2)\n",
    "head.next.next = ListNode(3)\n",
    "\n",
    "print(\"Original linked list:\")\n",
    "printList(head)\n",
    "print()\n",
    "\n",
    "head = addOne(head)\n",
    "\n",
    "print(\"Linked list after adding one:\")\n",
    "printList(head)"
   ]
  },
  {
   "cell_type": "markdown",
   "id": "88eb6a2d",
   "metadata": {},
   "source": [
    "### 14: Given a sorted array and a target value, return the index if the target is found. If not, return the index where it would be inserted.\n",
    "### Input: nums = [1, 3, 5, 6], target = 5\n",
    "### Output: 2"
   ]
  },
  {
   "cell_type": "code",
   "execution_count": 19,
   "id": "e54c71ea",
   "metadata": {},
   "outputs": [
    {
     "name": "stdout",
     "output_type": "stream",
     "text": [
      "2\n"
     ]
    }
   ],
   "source": [
    "\n",
    "def searchInsert(nums, target):\n",
    "    left, right = 0, len(nums) - 1\n",
    "\n",
    "    while left <= right:\n",
    "        mid = (left + right) // 2\n",
    "        if nums[mid] == target:\n",
    "            return mid\n",
    "        elif nums[mid] < target:\n",
    "            left = mid + 1\n",
    "        else:\n",
    "            right = mid - 1\n",
    "\n",
    "    \n",
    "    return left\n",
    "\n",
    "\n",
    "nums = [1, 3, 5, 6]\n",
    "target = 5\n",
    "print(searchInsert(nums, target))"
   ]
  },
  {
   "cell_type": "markdown",
   "id": "10565f0f",
   "metadata": {},
   "source": [
    "### 15: Find the minimum element in a rotated sorted array.\n",
    "### Input: [4, 5, 6, 7, 0, 1, 2]\n",
    "### Output: 0"
   ]
  },
  {
   "cell_type": "code",
   "execution_count": 20,
   "id": "264b1fad",
   "metadata": {},
   "outputs": [
    {
     "name": "stdout",
     "output_type": "stream",
     "text": [
      "0\n"
     ]
    }
   ],
   "source": [
    "\n",
    "def findMin(nums):\n",
    "    left, right = 0, len(nums) - 1\n",
    "\n",
    "    while left < right:\n",
    "        mid = (left + right) // 2\n",
    "        \n",
    "        if nums[mid] > nums[right]:\n",
    "            left = mid + 1\n",
    "        \n",
    "        else:\n",
    "            right = mid\n",
    "\n",
    "    \n",
    "    return nums[left]\n",
    "\n",
    "\n",
    "nums = [4, 5, 6, 7, 0, 1, 2]\n",
    "print(findMin(nums))"
   ]
  },
  {
   "cell_type": "markdown",
   "id": "3b19ebe2",
   "metadata": {},
   "source": [
    "### 16: Search for a target value in a rotated sorted array.\n",
    "### Input: nums = [4, 5, 6, 7, 0, 1, 2], target = 0\n",
    "### Output: 4"
   ]
  },
  {
   "cell_type": "code",
   "execution_count": 21,
   "id": "233d3808",
   "metadata": {},
   "outputs": [
    {
     "name": "stdout",
     "output_type": "stream",
     "text": [
      "4\n"
     ]
    }
   ],
   "source": [
    "\n",
    "def search(nums, target):\n",
    "    left, right = 0, len(nums) - 1\n",
    "\n",
    "    while left <= right:\n",
    "        mid = (left + right) // 2\n",
    "        if nums[mid] == target:\n",
    "            return mid\n",
    "        \n",
    "        \n",
    "        if nums[left] <= nums[mid]:\n",
    "            \n",
    "            if nums[left] <= target < nums[mid]:\n",
    "                right = mid - 1\n",
    "            else:\n",
    "                left = mid + 1\n",
    "        \n",
    "        else:\n",
    "            \n",
    "            if nums[mid] < target <= nums[right]:\n",
    "                left = mid + 1\n",
    "            else:\n",
    "                right = mid - 1\n",
    "\n",
    "    return -1\n",
    "\n",
    "\n",
    "nums = [4, 5, 6, 7, 0, 1, 2]\n",
    "target = 0\n",
    "print(search(nums, target))"
   ]
  },
  {
   "cell_type": "markdown",
   "id": "ae0cadb9",
   "metadata": {},
   "source": [
    "### 17: Find the peak element in an array. A peak element is greater than its neighbors.\n",
    "### Input: nums = [1, 2, 3, 1]\n",
    "### Output: 2 (index of peak element)"
   ]
  },
  {
   "cell_type": "code",
   "execution_count": 22,
   "id": "f0fc5ffb",
   "metadata": {},
   "outputs": [
    {
     "name": "stdout",
     "output_type": "stream",
     "text": [
      "2\n"
     ]
    }
   ],
   "source": [
    "\n",
    "def findPeakElement(nums):\n",
    "    left, right = 0, len(nums) - 1\n",
    "\n",
    "    while left < right:\n",
    "        mid = (left + right) // 2\n",
    "        \n",
    "        if nums[mid] < nums[mid + 1]:\n",
    "            left = mid + 1\n",
    "        else:\n",
    "            right = mid\n",
    "\n",
    "    \n",
    "    return left\n",
    "\n",
    "\n",
    "nums = [1, 2, 3, 1]\n",
    "print(findPeakElement(nums))"
   ]
  },
  {
   "cell_type": "markdown",
   "id": "7914b88d",
   "metadata": {},
   "source": [
    "### 18: Given a m x n matrix where each row and column is sorted in ascending order, count the number of negative numbers.\n",
    "### Input: grid = [[4, 3, 2, -1], [3, 2, 1, -1], [1, 1, -1, -2], [-1, -1, -2, -3]]\n",
    "### Output: 8"
   ]
  },
  {
   "cell_type": "code",
   "execution_count": 23,
   "id": "103ba984",
   "metadata": {},
   "outputs": [
    {
     "name": "stdout",
     "output_type": "stream",
     "text": [
      "8\n"
     ]
    }
   ],
   "source": [
    "\n",
    "def countNegatives(grid):\n",
    "    rows, cols = len(grid), len(grid[0])\n",
    "    row, col = 0, cols - 1\n",
    "    count = 0\n",
    "\n",
    "    while row < rows and col >= 0:\n",
    "        if grid[row][col] < 0:\n",
    "            count += rows - row\n",
    "            col -= 1\n",
    "        else:\n",
    "            row += 1\n",
    "\n",
    "    return count\n",
    "\n",
    "\n",
    "grid = [\n",
    "    [4, 3, 2, -1],\n",
    "    [3, 2, 1, -1],\n",
    "    [1, 1, -1, -2],\n",
    "    [-1, -1, -2, -3]\n",
    "]\n",
    "print(countNegatives(grid))"
   ]
  },
  {
   "cell_type": "markdown",
   "id": "74907c12",
   "metadata": {},
   "source": [
    "### 19: Given a 2D matrix sorted in ascending order in each row, and the first integer of each row is greater than the last integer of the previous row, determine if a target value is present in the matrix.\n",
    "### Input: matrix = [[1, 3, 5, 7], [10, 11, 16, 20], [23, 30, 34, 60]], target = 3\n",
    "### Output: True"
   ]
  },
  {
   "cell_type": "code",
   "execution_count": 24,
   "id": "104b0698",
   "metadata": {},
   "outputs": [
    {
     "name": "stdout",
     "output_type": "stream",
     "text": [
      "True\n"
     ]
    }
   ],
   "source": [
    "\n",
    "def searchMatrix(matrix, target):\n",
    "    if not matrix or not matrix[0]:\n",
    "        return False\n",
    "    \n",
    "    rows, cols = len(matrix), len(matrix[0])\n",
    "    left, right = 0, rows * cols - 1\n",
    "\n",
    "    while left <= right:\n",
    "        mid = (left + right) // 2\n",
    "        mid_value = matrix[mid // cols][mid % cols]\n",
    "\n",
    "        if mid_value == target:\n",
    "            return True\n",
    "        elif mid_value < target:\n",
    "            left = mid + 1\n",
    "        else:\n",
    "            right = mid - 1\n",
    "\n",
    "    return False\n",
    "\n",
    "\n",
    "matrix = [\n",
    "    [1, 3, 5, 7],\n",
    "    [10, 11, 16, 20],\n",
    "    [23, 30, 34, 60]\n",
    "]\n",
    "target = 3\n",
    "print(searchMatrix(matrix, target))"
   ]
  },
  {
   "cell_type": "markdown",
   "id": "b52faeb5",
   "metadata": {},
   "source": [
    "### 20: Find Median in Two Sorted Arrays\n",
    "### Problem: Given two sorted arrays, find the median of the combined sorted array.\n",
    "### Input: nums1 = [1, 3], nums2 = [2]\n",
    "### Output: 2.0"
   ]
  },
  {
   "cell_type": "code",
   "execution_count": 25,
   "id": "cfddd52c",
   "metadata": {},
   "outputs": [
    {
     "name": "stdout",
     "output_type": "stream",
     "text": [
      "2\n"
     ]
    }
   ],
   "source": [
    "\n",
    "def findMedianSortedArrays(nums1, nums2):\n",
    "    merged = []\n",
    "    i, j = 0, 0\n",
    "    total_length = len(nums1) + len(nums2)\n",
    "\n",
    "    while i < len(nums1) and j < len(nums2):\n",
    "        if nums1[i] < nums2[j]:\n",
    "            merged.append(nums1[i])\n",
    "            i += 1\n",
    "        else:\n",
    "            merged.append(nums2[j])\n",
    "            j += 1\n",
    "\n",
    "    while i < len(nums1):\n",
    "        merged.append(nums1[i])\n",
    "        i += 1\n",
    "\n",
    "    while j < len(nums2):\n",
    "        merged.append(nums2[j])\n",
    "        j += 1\n",
    "\n",
    "    if total_length % 2 == 0:\n",
    "        median_index = total_length // 2\n",
    "        return (merged[median_index - 1] + merged[median_index]) / 2\n",
    "    else:\n",
    "        median_index = total_length // 2\n",
    "        return merged[median_index]\n",
    "\n",
    "\n",
    "nums1 = [1, 3]\n",
    "nums2 = [2]\n",
    "print(findMedianSortedArrays(nums1, nums2))"
   ]
  },
  {
   "cell_type": "markdown",
   "id": "f464a57e",
   "metadata": {},
   "source": [
    "### 21: Given a sorted character array and a target letter, find the smallest letter in the array that is greater than the target.\n",
    "### Input: letters = ['c', 'f', 'j'], target = a\n",
    "### Output: 'c'"
   ]
  },
  {
   "cell_type": "code",
   "execution_count": 26,
   "id": "527c5725",
   "metadata": {},
   "outputs": [
    {
     "name": "stdout",
     "output_type": "stream",
     "text": [
      "c\n"
     ]
    }
   ],
   "source": [
    "\n",
    "def nextGreatestLetter(letters, target):\n",
    "    left, right = 0, len(letters) - 1\n",
    "\n",
    "    while left <= right:\n",
    "        mid = (left + right) // 2\n",
    "\n",
    "        if letters[mid] <= target:\n",
    "            left = mid + 1\n",
    "        else:\n",
    "            right = mid - 1\n",
    "\n",
    "    \n",
    "    return letters[left % len(letters)]\n",
    "\n",
    "\n",
    "letters = ['c', 'f', 'j']\n",
    "target = 'a'\n",
    "print(nextGreatestLetter(letters, target))"
   ]
  },
  {
   "cell_type": "markdown",
   "id": "c01e70cb",
   "metadata": {},
   "source": [
    "### 22: Given an array with n objects colored red, white, or blue, sort them in-place so that objects of the same color are adjacent, with the colors in the order red, white, and blue.\n",
    "### Input: nums = [2, 0, 2, 1, 1, 0]\n",
    "### Output: [0, 0, 1, 1, 2, 2]"
   ]
  },
  {
   "cell_type": "code",
   "execution_count": 27,
   "id": "9b231318",
   "metadata": {},
   "outputs": [
    {
     "name": "stdout",
     "output_type": "stream",
     "text": [
      "[0, 0, 1, 1, 2, 2]\n"
     ]
    }
   ],
   "source": [
    "\n",
    "def sortColors(nums):\n",
    "    left, curr, right = 0, 0, len(nums) - 1\n",
    "\n",
    "    while curr <= right:\n",
    "        if nums[curr] == 0:\n",
    "            nums[left], nums[curr] = nums[curr], nums[left]\n",
    "            left += 1\n",
    "            curr += 1\n",
    "        elif nums[curr] == 2:\n",
    "            nums[curr], nums[right] = nums[right], nums[curr]\n",
    "            right -= 1\n",
    "        else:\n",
    "            curr += 1\n",
    "\n",
    "\n",
    "nums = [2, 0, 2, 1, 1, 0]\n",
    "sortColors(nums)\n",
    "print(nums)"
   ]
  },
  {
   "cell_type": "markdown",
   "id": "c81ca6c4",
   "metadata": {},
   "source": [
    "### 23: Find the kth largest element in an unsorted array.\n",
    "### Input: nums = [3, 2, 1, 5, 6, 4], k = 2\n",
    "### Output: 5"
   ]
  },
  {
   "cell_type": "code",
   "execution_count": 28,
   "id": "7ea5f83f",
   "metadata": {},
   "outputs": [
    {
     "name": "stdout",
     "output_type": "stream",
     "text": [
      "5\n"
     ]
    }
   ],
   "source": [
    "\n",
    "import random\n",
    "\n",
    "def findKthLargest(nums, k):\n",
    "    \n",
    "    def partition(left, right, pivot_index):\n",
    "        pivot = nums[pivot_index]\n",
    "        \n",
    "        nums[pivot_index], nums[right] = nums[right], nums[pivot_index]\n",
    "        store_index = left\n",
    "\n",
    "        \n",
    "        for i in range(left, right):\n",
    "            if nums[i] < pivot:\n",
    "                nums[i], nums[store_index] = nums[store_index], nums[i]\n",
    "                store_index += 1\n",
    "        \n",
    "        \n",
    "        nums[right], nums[store_index] = nums[store_index], nums[right]\n",
    "        return store_index\n",
    "\n",
    "    def select(left, right, k_smallest):\n",
    "        if left == right:\n",
    "            return nums[left]\n",
    "\n",
    "        pivot_index = random.randint(left, right)\n",
    "        pivot_index = partition(left, right, pivot_index)\n",
    "\n",
    "        if k_smallest == pivot_index:\n",
    "            return nums[k_smallest]\n",
    "        elif k_smallest < pivot_index:\n",
    "            return select(left, pivot_index - 1, k_smallest)\n",
    "        else:\n",
    "            return select(pivot_index + 1, right, k_smallest)\n",
    "\n",
    "    return select(0, len(nums) - 1, len(nums) - k)\n",
    "\n",
    "\n",
    "nums = [3, 2, 1, 5, 6, 4]\n",
    "k = 2\n",
    "print(findKthLargest(nums, k))"
   ]
  },
  {
   "cell_type": "markdown",
   "id": "6249e33a",
   "metadata": {},
   "source": [
    "### 24: Given an unsorted array, reorder it in-place such that nums[0] <= nums[1] >= nums[2] <= nums[3]...\n",
    "**Input**: nums = [3, 5, 2, 1, 6, 4]\n",
    "\n",
    "**Output**: [3, 5, 1, 6, 2, 4]"
   ]
  },
  {
   "cell_type": "code",
   "execution_count": 29,
   "id": "92265caf",
   "metadata": {},
   "outputs": [
    {
     "name": "stdout",
     "output_type": "stream",
     "text": [
      "[3, 5, 1, 6, 2, 4]\n"
     ]
    }
   ],
   "source": [
    "\n",
    "def wiggleSort(nums):\n",
    "    for i in range(len(nums) - 1):\n",
    "        \n",
    "        if (i % 2 == 0 and nums[i] > nums[i + 1]) or (i % 2 != 0 and nums[i] < nums[i + 1]):\n",
    "            nums[i], nums[i + 1] = nums[i + 1], nums[i]\n",
    "\n",
    "nums = [3, 5, 2, 1, 6, 4]\n",
    "wiggleSort(nums)\n",
    "print(nums)"
   ]
  },
  {
   "cell_type": "markdown",
   "id": "3f16f7a1",
   "metadata": {},
   "source": [
    "### 25: Given an array of integers, calculate the sum of all its elements.\n",
    "**Input**: [1, 2, 3, 4, 5]\n",
    "\n",
    "**Output**: 15"
   ]
  },
  {
   "cell_type": "code",
   "execution_count": 30,
   "id": "d6cbf173",
   "metadata": {},
   "outputs": [
    {
     "name": "stdout",
     "output_type": "stream",
     "text": [
      "15\n"
     ]
    }
   ],
   "source": [
    "\n",
    "def arraySum(nums):\n",
    "    total = 0\n",
    "    for num in nums:\n",
    "        total += num\n",
    "    return total\n",
    "\n",
    "\n",
    "nums = [1, 2, 3, 4, 5]\n",
    "print(arraySum(nums))"
   ]
  },
  {
   "cell_type": "markdown",
   "id": "91401d8b",
   "metadata": {},
   "source": [
    "### 26: Find the maximum element in an array of integers.\n",
    "**Input**: [3, 7, 2, 9, 4, 1]\n",
    "\n",
    "**Output**: 9"
   ]
  },
  {
   "cell_type": "code",
   "execution_count": 31,
   "id": "aa4170b7",
   "metadata": {},
   "outputs": [
    {
     "name": "stdout",
     "output_type": "stream",
     "text": [
      "9\n"
     ]
    }
   ],
   "source": [
    "\n",
    "def findMax(nums):\n",
    "    max_num = float('-inf')\n",
    "    \n",
    "    for num in nums:\n",
    "        if num > max_num:\n",
    "            max_num = num\n",
    "            \n",
    "    return max_num\n",
    "\n",
    "\n",
    "nums = [3, 7, 2, 9, 4, 1]\n",
    "print(findMax(nums))"
   ]
  },
  {
   "cell_type": "markdown",
   "id": "6c54f1d5",
   "metadata": {},
   "source": [
    "### 27: Implement linear search to find the index of a target element in an array.\n",
    "**Input**: [5, 3, 8, 2, 7, 4], target = 8\n",
    "\n",
    "**Output**: 2"
   ]
  },
  {
   "cell_type": "code",
   "execution_count": 32,
   "id": "2db8caf2",
   "metadata": {},
   "outputs": [
    {
     "name": "stdout",
     "output_type": "stream",
     "text": [
      "2\n"
     ]
    }
   ],
   "source": [
    "\n",
    "def linearSearch(nums, target):\n",
    "    for i in range(len(nums)):\n",
    "        if nums[i] == target:\n",
    "            return i\n",
    "    return -1\n",
    "\n",
    "\n",
    "nums = [5, 3, 8, 2, 7, 4]\n",
    "target = 8\n",
    "print(linearSearch(nums, target))"
   ]
  },
  {
   "cell_type": "markdown",
   "id": "70899daa",
   "metadata": {},
   "source": [
    "### 28: Calculate the factorial of a given number.\n",
    "**Input**: 5\n",
    "\n",
    "**Output**: 120 (as 5! = 5 * 4 * 3 * 2 * 1 = 120)"
   ]
  },
  {
   "cell_type": "code",
   "execution_count": 33,
   "id": "508847fe",
   "metadata": {},
   "outputs": [
    {
     "name": "stdout",
     "output_type": "stream",
     "text": [
      "120\n"
     ]
    }
   ],
   "source": [
    "\n",
    "def factorial(n):\n",
    "    result = 1\n",
    "    for i in range(2, n + 1):\n",
    "        result *= i\n",
    "    return result\n",
    "\n",
    "\n",
    "num = 5\n",
    "print(factorial(num))"
   ]
  },
  {
   "cell_type": "markdown",
   "id": "b5fddd8c",
   "metadata": {},
   "source": [
    "### 29: Check if a given number is a prime number.\n",
    "**Input**: 7\n",
    "\n",
    "**Output**: True"
   ]
  },
  {
   "cell_type": "code",
   "execution_count": 34,
   "id": "742d1a34",
   "metadata": {},
   "outputs": [
    {
     "name": "stdout",
     "output_type": "stream",
     "text": [
      "True\n"
     ]
    }
   ],
   "source": [
    "\n",
    "import math\n",
    "\n",
    "def isPrime(n):\n",
    "    if n <= 1:\n",
    "        return False\n",
    "    if n == 2:\n",
    "        return True\n",
    "    if n % 2 == 0:\n",
    "        return False\n",
    "    for i in range(3, int(math.sqrt(n)) + 1, 2):\n",
    "        if n % i == 0:\n",
    "            return False\n",
    "    return True\n",
    "\n",
    "\n",
    "num = 7\n",
    "print(isPrime(num))"
   ]
  },
  {
   "cell_type": "markdown",
   "id": "21cfad97",
   "metadata": {},
   "source": [
    "### 30: Generate the Fibonacci series up to a given number n.\n",
    "**Input**: 8\n",
    "\n",
    "**Output**: [0, 1, 1, 2, 3, 5, 8, 13]"
   ]
  },
  {
   "cell_type": "code",
   "execution_count": 35,
   "id": "3e8374f8",
   "metadata": {},
   "outputs": [
    {
     "name": "stdout",
     "output_type": "stream",
     "text": [
      "[0, 1, 1, 2, 3, 5, 8, 13]\n"
     ]
    }
   ],
   "source": [
    "\n",
    "def fibonacci_series(n):\n",
    "    if n <= 0:\n",
    "        return []\n",
    "    elif n == 1:\n",
    "        return [0]\n",
    "    fib_series = [0, 1]\n",
    "    while len(fib_series) < n:\n",
    "        fib_series.append(fib_series[-1] + fib_series[-2])\n",
    "    return fib_series\n",
    "\n",
    "n = 8\n",
    "result = fibonacci_series(n)\n",
    "print(result)"
   ]
  },
  {
   "cell_type": "markdown",
   "id": "3661e1b7",
   "metadata": {},
   "source": [
    "### 31: Calculate the power of a number using recursion.\n",
    "**Input**: base = 3, exponent = 4\n",
    "\n",
    "**Output**: 81 (as 3^4 = 3 * 3 * 3 * 3 = 81)"
   ]
  },
  {
   "cell_type": "code",
   "execution_count": 36,
   "id": "0b0ebc8b",
   "metadata": {},
   "outputs": [
    {
     "name": "stdout",
     "output_type": "stream",
     "text": [
      "81\n"
     ]
    }
   ],
   "source": [
    "\n",
    "def power(base, exponent):\n",
    "    if exponent == 0:\n",
    "        return 1\n",
    "    elif exponent == 1:\n",
    "        return base\n",
    "    else:\n",
    "        return base * power(base, exponent - 1)\n",
    "\n",
    "\n",
    "base = 3\n",
    "exponent = 4\n",
    "print(power(base, exponent))"
   ]
  },
  {
   "cell_type": "markdown",
   "id": "30f78ead",
   "metadata": {},
   "source": [
    "### 32: Reverse a given string.\n",
    "**Input**: \"hello\"\n",
    "\n",
    "**Output**: \"olleh\""
   ]
  },
  {
   "cell_type": "code",
   "execution_count": 37,
   "id": "c982341a",
   "metadata": {},
   "outputs": [
    {
     "name": "stdout",
     "output_type": "stream",
     "text": [
      "olleh\n"
     ]
    }
   ],
   "source": [
    "def reverseString(s):\n",
    "\n",
    "    s = list(s)\n",
    "    left, right = 0, len(s) - 1\n",
    "\n",
    "    while left < right:\n",
    "        \n",
    "        s[left], s[right] = s[right], s[left]\n",
    "\n",
    "        left += 1\n",
    "        right -= 1\n",
    "\n",
    "    return \"\".join(s)\n",
    "\n",
    "\n",
    "input_str = \"hello\"\n",
    "print(reverseString(input_str))"
   ]
  },
  {
   "cell_type": "code",
   "execution_count": null,
   "id": "ce23c136",
   "metadata": {},
   "outputs": [],
   "source": []
  }
 ],
 "metadata": {
  "kernelspec": {
   "display_name": "Python 3 (ipykernel)",
   "language": "python",
   "name": "python3"
  },
  "language_info": {
   "codemirror_mode": {
    "name": "ipython",
    "version": 3
   },
   "file_extension": ".py",
   "mimetype": "text/x-python",
   "name": "python",
   "nbconvert_exporter": "python",
   "pygments_lexer": "ipython3",
   "version": "3.11.4"
  }
 },
 "nbformat": 4,
 "nbformat_minor": 5
}
