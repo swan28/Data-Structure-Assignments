{
 "cells": [
  {
   "cell_type": "markdown",
   "id": "454678fd",
   "metadata": {},
   "source": [
    "### Q.1 Can you explain the logic and working of the Tower of Hanoi algorithm by writing a Python program? How does the recursion work, and how are the movements of disks between rods accomplished?"
   ]
  },
  {
   "cell_type": "code",
   "execution_count": 1,
   "id": "ddff8d59",
   "metadata": {},
   "outputs": [
    {
     "name": "stdout",
     "output_type": "stream",
     "text": [
      "Move disk 1 from A to C\n",
      "Move disk 2 from A to B\n",
      "Move disk 1 from C to B\n",
      "Move disk 3 from A to C\n",
      "Move disk 1 from B to A\n",
      "Move disk 2 from B to C\n",
      "Move disk 1 from A to C\n"
     ]
    }
   ],
   "source": [
    "def tower_of_hanoi(n, source, target, auxiliary):\n",
    "    if n > 0:\n",
    "        tower_of_hanoi(n-1, source, auxiliary, target)\n",
    "        \n",
    "        print(f\"Move disk {n} from {source} to {target}\")\n",
    "        \n",
    "        tower_of_hanoi(n-1, auxiliary, target, source)\n",
    "\n",
    "num_disks = 3\n",
    "tower_of_hanoi(num_disks, 'A', 'C', 'B')"
   ]
  },
  {
   "cell_type": "markdown",
   "id": "b600ff55",
   "metadata": {},
   "source": [
    "1. **Base Case:**\n",
    "   - The base case is when there is only one disk on the source rod.\n",
    "   - In this case, simply move the single disk from the source rod to the destination rod.\n",
    "\n",
    "2. **Recursive Step:**\n",
    "   - For a stack of disks greater than one, the Tower of Hanoi algorithm breaks down the problem into three subproblems.\n",
    "   - Consider a stack of N disks on the source rod. To move this stack to the destination rod, we first move the top N-1 disks to an auxiliary rod (using the destination rod as a temporary rod).\n",
    "\n",
    "3. **Move Top N-1 Disks:**\n",
    "   - Recursively apply the Tower of Hanoi algorithm to move the top N-1 disks from the source rod to the auxiliary rod.\n",
    "   - The destination rod is used as a temporary rod during this process.\n",
    "\n",
    "4. **Move the Largest Disk:**\n",
    "   - Once the top N-1 disks are moved to the auxiliary rod, the largest disk (the Nth disk) is moved directly from the source rod to the destination rod.\n",
    "\n",
    "5. **Move the Remaining N-1 Disks:**\n",
    "   - Now, recursively apply the Tower of Hanoi algorithm to move the N-1 disks from the auxiliary rod to the destination rod.\n",
    "   - The source rod is used as a temporary rod during this process.\n",
    "\n",
    "6. **Repeat Until Base Case:**\n",
    "   - Continue this recursive process until the base case is reached (a single disk).\n"
   ]
  },
  {
   "cell_type": "markdown",
   "id": "d345aa4d",
   "metadata": {},
   "source": [
    "### Q.2 Given two strings `word1` and `word2`, return the minimum number of operations required to convert `word1` to `word2`.\n",
    "\n",
    "#### Example 1:\n",
    "- **Input:** `word1 = \"horse\"`, `word2 = \"ros\"`\n",
    "- **Output:** `3`\n",
    "- **Explanation:**\n",
    "  - `horse` -> `rorse` (replace 'h' with 'r')\n",
    "  - `rorse` -> `rose` (remove 'r')\n",
    "  - `rose` -> `ros` (remove 'e')\n",
    "\n",
    "#### Example 2:\n",
    "- **Input:** `word1 = \"intention\"`, `word2 = \"execution\"`\n",
    "- **Output:** `5`\n",
    "- **Explanation:**\n",
    "  - `intention` -> `inention` (remove 't')\n",
    "  - `inention` -> `enention` (replace 'i' with 'e')\n",
    "  - `enention` -> `exention` (replace 'n' with 'x')\n",
    "  - `exention` -> `exection` (replace 'n' with 'c')\n",
    "  - `exection` -> `execution` (insert 'u')\n"
   ]
  },
  {
   "cell_type": "code",
   "execution_count": 2,
   "id": "36805f2c",
   "metadata": {},
   "outputs": [
    {
     "name": "stdout",
     "output_type": "stream",
     "text": [
      "3\n",
      "5\n"
     ]
    }
   ],
   "source": [
    "def minDistance(word1, word2):\n",
    "    m, n = len(word1), len(word2)\n",
    "    \n",
    "    dp = [[0] * (n + 1) for _ in range(m + 1)]\n",
    "\n",
    "    for i in range(m + 1):\n",
    "        dp[i][0] = i\n",
    "    for j in range(n + 1):\n",
    "        dp[0][j] = j\n",
    "\n",
    "    for i in range(1, m + 1):\n",
    "        for j in range(1, n + 1):\n",
    "            if word1[i - 1] == word2[j - 1]:\n",
    "                dp[i][j] = dp[i - 1][j - 1]\n",
    "            else:\n",
    "                dp[i][j] = 1 + min(dp[i - 1][j],\n",
    "                                  dp[i][j - 1],\n",
    "                                  dp[i - 1][j - 1])\n",
    "\n",
    "    return dp[m][n]\n",
    "\n",
    "word1_1, word2_1 = \"horse\", \"ros\"\n",
    "word1_2, word2_2 = \"intention\", \"execution\"\n",
    "\n",
    "print(minDistance(word1_1, word2_1))\n",
    "print(minDistance(word1_2, word2_2))"
   ]
  },
  {
   "cell_type": "markdown",
   "id": "19e169fb",
   "metadata": {},
   "source": [
    "This Python code uses dynamic programming to build a table (`dp`) that represents the minimum number of operations required to convert substrings of `word1` to substrings of `word2`. The final result is the value stored in `dp[m][n]`.\n",
    "\n",
    "### Step-by-Step Explanation of the Code:\n",
    "\n",
    "1. **Initialization:**\n",
    "   - The code starts by initializing two variables, `m` and `n`, representing the lengths of `word1` and `word2`, respectively.\n",
    "   - It also creates a 2D list `dp` to store the minimum number of operations for converting substrings of `word1` to substrings of `word2`.\n",
    "\n",
    "2. **Base Cases:**\n",
    "   - The code initializes the first row and first column of the `dp` table to represent the minimum number of operations required to convert an empty string to a string of length `i` or `j`.\n",
    "   - For example, `dp[i][0]` represents the minimum operations to convert an empty string to a string of length `i`, which is simply inserting `i` characters.\n",
    "\n",
    "3. **Dynamic Programming Iteration:**\n",
    "   - The code then uses a nested loop to iterate over each character of both words.\n",
    "   - For each pair of characters at positions `i` and `j`, it updates the `dp` table based on the three possible operations: insertion, deletion, or replacement.\n",
    "     - If the characters are equal, no operation is needed (`dp[i][j] = dp[i-1][j-1]`).\n",
    "     - If the characters are not equal, it takes the minimum of three cases: insertion (`dp[i][j-1]`), deletion (`dp[i-1][j]`), or replacement (`dp[i-1][j-1]`).\n",
    "\n",
    "4. **Final Result:**\n",
    "   - After completing the dynamic programming table, the final result is stored in `dp[m][n]`, representing the minimum operations to convert the entire `word1` to `word2`.\n",
    "\n",
    "5. **Example Usage:**\n",
    "   - The code is then called with two example word pairs: `\"horse\"` and `\"ros\"`, and `\"intention\"` and `\"execution\"`.\n",
    "   - The results are printed, showing the minimum number of operations required for each pair.\n"
   ]
  },
  {
   "cell_type": "markdown",
   "id": "12719ddb",
   "metadata": {},
   "source": [
    "### Q.3 Print the max value of the array [ 13, 1, -3, 22, 5]."
   ]
  },
  {
   "cell_type": "code",
   "execution_count": 3,
   "id": "933de4f1",
   "metadata": {},
   "outputs": [
    {
     "name": "stdout",
     "output_type": "stream",
     "text": [
      "22\n"
     ]
    }
   ],
   "source": [
    "arr = [13, 1, -3, 22, 5]\n",
    "max_value = max(arr)\n",
    "print(max_value)"
   ]
  },
  {
   "cell_type": "markdown",
   "id": "851f43d0",
   "metadata": {},
   "source": [
    "This Python code initializes an array, calculates the maximum value in the array using the `max()` function, assigns it to a variable, and then prints the maximum value. In this specific case, the maximum value in the array `[13, 1, -3, 22, 5]` is determined and printed.\n",
    "\n",
    "### Step-by-Step Explanation of the Code:\n",
    "\n",
    "1. **Array Initialization:**\n",
    "   - The code starts with the initialization of an array named `arr` containing the values `[13, 1, -3, 22, 5]`.\n",
    "\n",
    "2. **Max Value Calculation:**\n",
    "   - The `max()` function is used to find the maximum value in the array.\n",
    "   - It takes the array `arr` as an argument and returns the maximum value present in the array.\n",
    "\n",
    "3. **Variable Assignment:**\n",
    "   - The result of the `max()` function is assigned to a variable named `max_value`. This variable now holds the maximum value found in the array.\n",
    "\n",
    "4. **Print Statement:**\n",
    "   - The `print()` statement is used to display the maximum value stored in the `max_value` variable.\n",
    "   - The output of this `print()` statement will be the maximum value present in the array `[13, 1, -3, 22, 5]`.\n"
   ]
  },
  {
   "cell_type": "markdown",
   "id": "c3557ba5",
   "metadata": {},
   "source": [
    "### Q.4 Find the sum of the values of the array [92, 23, 15, -20, 10]."
   ]
  },
  {
   "cell_type": "code",
   "execution_count": 4,
   "id": "1df8aeae",
   "metadata": {},
   "outputs": [
    {
     "name": "stdout",
     "output_type": "stream",
     "text": [
      "120\n"
     ]
    }
   ],
   "source": [
    "arr = [92, 23, 15, -20, 10]\n",
    "sum_values = sum(arr)\n",
    "print(sum_values)"
   ]
  },
  {
   "cell_type": "markdown",
   "id": "a4150ca5",
   "metadata": {},
   "source": [
    "This Python code initializes an array, calculates the sum of its values using the `sum()` function, assigns it to a variable, and then prints the sum. In this specific case, the sum of the values in the array `[92, 23, 15, -20, 10]` is determined and printed.\n",
    "\n",
    "### Step-by-Step Explanation of the Code:\n",
    "\n",
    "1. **Array Initialization:**\n",
    "   - The code starts by initializing an array named `arr` with the values `[92, 23, 15, -20, 10]`.\n",
    "\n",
    "2. **Sum Calculation:**\n",
    "   - The `sum()` function is utilized to calculate the sum of all the values in the array.\n",
    "   - This function takes the array `arr` as an argument and returns the sum of all the values present in the array.\n",
    "\n",
    "3. **Variable Assignment:**\n",
    "   - The result of the `sum()` function is assigned to a variable named `sum_values`. This variable now holds the sum of all the values in the array.\n",
    "\n",
    "4. **Print Statement:**\n",
    "   - The `print()` statement is used to display the sum stored in the `sum_values` variable.\n",
    "   - The output of this `print()` statement will be the sum of the values in the array `[92, 23, 15, -20, 10]`.\n"
   ]
  },
  {
   "cell_type": "markdown",
   "id": "b73d7c22",
   "metadata": {},
   "source": [
    "### Q.5 Given a number `n`, print if it is an Armstrong number or not. \n",
    "\n",
    "An Armstrong number is a number where the sum of every digit in that number, raised to the power of the total number of digits, is equal to the number itself.\n",
    "\n",
    "#### Example:\n",
    "- **153**:  \n",
    "  \\(153 = 1^3 + 5^3 + 3^3 = 1 + 125 + 27 = 153\\)  \n",
    "  Hence, 153 is an Armstrong number.\n",
    "\n",
    "#### Input1: \n",
    "- `153`\n",
    "  \n",
    "#### Output1: \n",
    "- `Yes`\n",
    "\n",
    "#### Input2: \n",
    "- `134`\n",
    "  \n",
    "#### Output2: \n",
    "- `No`\n"
   ]
  },
  {
   "cell_type": "code",
   "execution_count": 5,
   "id": "f75ba960",
   "metadata": {},
   "outputs": [
    {
     "name": "stdout",
     "output_type": "stream",
     "text": [
      "Output1: Yes\n",
      "Output2: No\n"
     ]
    }
   ],
   "source": [
    "def is_armstrong_number(n):\n",
    "    num_str = str(n)\n",
    "    num_digits = len(num_str)\n",
    "    \n",
    "    armstrong_sum = sum(int(digit) ** num_digits for digit in num_str)\n",
    "    \n",
    "    return armstrong_sum == n\n",
    "\n",
    "# Example usage:\n",
    "input_1 = 153\n",
    "input_2 = 134\n",
    "\n",
    "output_1 = is_armstrong_number(input_1)\n",
    "output_2 = is_armstrong_number(input_2)\n",
    "\n",
    "print(\"Output1:\", \"Yes\" if output_1 else \"No\")\n",
    "print(\"Output2:\", \"Yes\" if output_2 else \"No\")"
   ]
  },
  {
   "cell_type": "markdown",
   "id": "0a261427",
   "metadata": {},
   "source": [
    "### Step-by-Step Explanation of the Code:\n",
    "\n",
    "1. **Function Definition:**\n",
    "   - The code defines a function named `is_armstrong_number` that takes a number `n` as its argument.\n",
    "\n",
    "2. **Convert to String:**\n",
    "   - The number `n` is converted to a string (`num_str`) to easily extract its individual digits.\n",
    "\n",
    "3. **Count Digits:**\n",
    "   - The length of the string (`num_digits`) is calculated, representing the total number of digits in the original number.\n",
    "\n",
    "4. **Armstrong Sum Calculation:**\n",
    "   - The code uses a generator expression within the `sum()` function to calculate the sum of each digit raised to the power of the total number of digits.\n",
    "   - For each digit in the string representation of the number, it calculates `int(digit) ** num_digits`.\n",
    "\n",
    "5. **Comparison:**\n",
    "   - The sum calculated in the previous step is compared with the original number `n`.\n",
    "\n",
    "6. **Output:**\n",
    "   - The function returns `True` if the sum of digits raised to the power of the total number of digits is equal to the original number (i.e., it's an Armstrong number), and `False` otherwise.\n",
    "\n",
    "7. **Example Usage:**\n",
    "   - The code then calls the `is_armstrong_number` function with two example inputs: `153` and `134`.\n",
    "   - The results are printed as `\"Yes\"` if the number is an Armstrong number and `\"No\"` otherwise.\n"
   ]
  },
  {
   "cell_type": "markdown",
   "id": "c88d639a",
   "metadata": {},
   "source": []
  }
 ],
 "metadata": {
  "kernelspec": {
   "display_name": "Python 3 (ipykernel)",
   "language": "python",
   "name": "python3"
  },
  "language_info": {
   "codemirror_mode": {
    "name": "ipython",
    "version": 3
   },
   "file_extension": ".py",
   "mimetype": "text/x-python",
   "name": "python",
   "nbconvert_exporter": "python",
   "pygments_lexer": "ipython3",
   "version": "3.12.5"
  }
 },
 "nbformat": 4,
 "nbformat_minor": 5
}
